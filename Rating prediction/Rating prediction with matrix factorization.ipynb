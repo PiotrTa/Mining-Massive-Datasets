{
 "cells": [
  {
   "cell_type": "markdown",
   "metadata": {},
   "source": [
    "# Laten factor models\n",
    "<b> Latent factor models (LFMs)</b> belong to a group of unsupervised methods that model data in high-dimensional spaces using linear combinations of latent factors. This group of methods has been commonly used in the analysis of massive data sets due to its computational efficiency.\n",
    "\n",
    "Modern recommender systems model data at multiple scales. We can distinguish for example between the \"global\", \"regional\" and \"local\" scales. Let's quickly analyse this view using an example of restaurants and a customer John.\n",
    "\n",
    "At the <b>\"global\"</b> scale, one might want to analyse the overall mean rating of a restaurant or of the ratings submitted by John. This helps to capture the possible John's tendency to rate restaurants more strictly/leniently than other customers or to capture a general bias towards some restaurants belonging for example to one chain or type. To make a prediction of a rating, we could use a global mean rating and adjust it accordingly to John's biases.\n",
    "\n",
    "At the <b>\"local\"</b> scale, we consider very detailed information about John or a specific restaurant group. This is often called a <b> collaborative filtering</b>. The model would then look at the similar (e.g. italian, fast-food etc.) restaurants that have been rated by John and try to predict the rating for another restaurant from the group. On the other hand, in order to predict John's rating of a specific restaurant from a group that John has never visited before, we might find users that rated other restaurants similarly to John and additionaly rated that restaurant we are interested in. Based on the ratings of others, we infere what would be the John's opinion here. \n",
    "\n"
   ]
  },
  {
   "cell_type": "markdown",
   "metadata": {},
   "source": [
    "# Restaurant rating prediction using Yelp dataset\n",
    "The goal of this task is to recommend restaurants to users based on the rating data in the Yelp dataset. To do this, we will try to predict the rating a user will give to a restaurant that he has not been to yet based on a latent factor model.\n",
    "\n",
    "![alt text](https://is1-ssl.mzstatic.com/image/thumb/Purple118/v4/63/d7/f9/63d7f93a-bc7d-1388-48ab-fa4016ed4830/AppIcon-1x_U007emarketing-0-0-GLES2_U002c0-512MB-sRGB-0-0-0-85-220-0-0-0-6.png/246x0w.jpg)<br>\n",
    "\n",
    "In this notebook, we will use matrix factorization to build a model that is capable of reconstructing existing ratings and, as a \"side-effect\", predicting not existent ratings. The intuition for this task is the following. Based on the sparse data matrix [N,D] (a user rates just a tiny part of all restaurants from the dataset), we will construct two this dense matrices [N,k] and [k,D] that multiplied together, give us possibly the smallest reconstruction error. The largest advantage of this approach (matrix factorization) is that it allows us to use optimization methods like gradient descent or alternating optimization to find the most optimal solution. At the same time, we will be able to find predictions of any user/restaurant pair. This method let us capture the so called <b>\"regional\"</b> features. Depending on the latent dimensionality, the \"regional\" concepts will be more detail or rather wage. More on this topic can be found in the material about singular value decomposition. \n",
    "\n",
    "\n"
   ]
  },
  {
   "cell_type": "markdown",
   "metadata": {},
   "source": [
    "As mentioned above, we will use two optimization techniques: gradient descent and alternating optimization to compare the final reconstruction error and prediction accuracy as well as the computational effort.\n",
    "\n",
    "Implementation based on the programming task in the course Mining Massive Datasets (Year: 2018) at the Technical University of Munich."
   ]
  },
  {
   "cell_type": "markdown",
   "metadata": {},
   "source": [
    "### 0. Libraries\n",
    "\n",
    "We will be mostly using Numpy, SciPy.sparse and sklearn solvers for linear and ridge regression."
   ]
  },
  {
   "cell_type": "code",
   "execution_count": 1,
   "metadata": {
    "collapsed": true
   },
   "outputs": [],
   "source": [
    "import scipy.sparse as sp\n",
    "import numpy as np\n",
    "from scipy.sparse.linalg import svds\n",
    "import matplotlib.pyplot as plt\n",
    "%matplotlib inline\n",
    "from sklearn.linear_model import LinearRegression, Ridge\n",
    "import time\n",
    "\n",
    "import pdb"
   ]
  },
  {
   "cell_type": "markdown",
   "metadata": {},
   "source": [
    "## 1. Load data"
   ]
  },
  {
   "cell_type": "markdown",
   "metadata": {},
   "source": [
    "Dataset is available on my GitHub: \"ratings.npy\""
   ]
  },
  {
   "cell_type": "code",
   "execution_count": 2,
   "metadata": {
    "collapsed": true
   },
   "outputs": [],
   "source": [
    "ratings = np.load(\"ratings.npy\")"
   ]
  },
  {
   "cell_type": "code",
   "execution_count": 3,
   "metadata": {},
   "outputs": [
    {
     "data": {
      "text/plain": [
       "array([[101968,   1880,      1],\n",
       "       [101968,    284,      5],\n",
       "       [101968,   1378,      2],\n",
       "       ...,\n",
       "       [ 72452,   2100,      4],\n",
       "       [ 72452,   2050,      5],\n",
       "       [ 74861,   3979,      5]], dtype=uint32)"
      ]
     },
     "execution_count": 3,
     "metadata": {},
     "output_type": "execute_result"
    }
   ],
   "source": [
    "# We have triplets of (user, restaurant, rating).\n",
    "ratings"
   ]
  },
  {
   "cell_type": "markdown",
   "metadata": {},
   "source": [
    "Now we transform the data into a matrix of dimension [N, D], where N is the number of users and D is the number of restaurants in the dataset.  \n",
    "It is **strongly recommended** to load the data as a sparse matrix to **avoid out-of-memory issues**."
   ]
  },
  {
   "cell_type": "code",
   "execution_count": 5,
   "metadata": {
    "collapsed": true
   },
   "outputs": [],
   "source": [
    "# Store the matrix into the variable M\n",
    "M = sp.csr_matrix((ratings[:,2],(ratings[:,0],ratings[:,1])))"
   ]
  },
  {
   "cell_type": "code",
   "execution_count": 6,
   "metadata": {},
   "outputs": [
    {
     "data": {
      "text/plain": [
       "<337867x5899 sparse matrix of type '<class 'numpy.uint32'>'\n",
       "\twith 929606 stored elements in Compressed Sparse Row format>"
      ]
     },
     "execution_count": 6,
     "metadata": {},
     "output_type": "execute_result"
    }
   ],
   "source": [
    "M"
   ]
  },
  {
   "cell_type": "markdown",
   "metadata": {},
   "source": [
    "## 2. Preprocess the data"
   ]
  },
  {
   "cell_type": "markdown",
   "metadata": {},
   "source": [
    "In the preprocessing step, we recursively remove all users and restaurants with 10 or less ratings. Then, we randomly select 200 data points for the validation and test sets, respectively. After this, we subtract the mean rating for each users to account for this global effect. \n",
    "\n",
    "**Beware**: Some entries might become zero in this process -- but these entries are different than the 'unknown' zeros in the matrix. We will store the indices, of which we have data available, in a separate variable."
   ]
  },
  {
   "cell_type": "code",
   "execution_count": 7,
   "metadata": {
    "collapsed": true
   },
   "outputs": [],
   "source": [
    "def cold_start_preprocessing(matrix, min_entries):\n",
    "    \"\"\"\n",
    "    Recursively removes rows and columns from the input matrix which have less than min_entries nonzero entries.\n",
    "    \n",
    "    Parameters\n",
    "    ----------\n",
    "    matrix      : sp.spmatrix, shape [N, D]\n",
    "                  The input matrix to be preprocessed.\n",
    "    min_entries : int\n",
    "                  Minimum number of nonzero elements per row and column.\n",
    "\n",
    "    Returns\n",
    "    -------\n",
    "    matrix      : sp.spmatrix, shape [N', D']\n",
    "                  The pre-processed matrix, where N' <= N and D' <= D\n",
    "        \n",
    "    \"\"\"\n",
    "    \n",
    "    print(\"Shape before: {}\".format(matrix.shape))\n",
    "\n",
    "    # iterate until convergence\n",
    "    break_crit = False\n",
    "    while not break_crit:\n",
    "        # computing masks for columns and rows to keep\n",
    "        votes = matrix > 0\n",
    "        mask_user = np.squeeze(np.array(votes.sum(1))) > min_entries\n",
    "        mask_restaurants = np.squeeze(np.array(votes.sum(0))) > min_entries\n",
    "\n",
    "        # removing columns/rows below threshold\n",
    "        matrix = matrix[mask_user]\n",
    "        matrix = matrix.T[mask_restaurants].T\n",
    "        \n",
    "        nnz = matrix>0\n",
    "        break_crit = (nnz.sum(0).A1 > min_entries).all() and (nnz.sum(1).A1 > min_entries).all()\n",
    "    \n",
    "    print(\"Shape after: {}\".format(matrix.shape))\n",
    "    \n",
    "    nnz = matrix>0\n",
    "    \n",
    "    assert (nnz.sum(0).A1 > min_entries).all()\n",
    "    assert (nnz.sum(1).A1 > min_entries).all()\n",
    "    return matrix"
   ]
  },
  {
   "cell_type": "code",
   "execution_count": 8,
   "metadata": {
    "collapsed": true
   },
   "outputs": [],
   "source": [
    "def shift_user_mean(matrix):\n",
    "    \"\"\"\n",
    "    Subtract the mean rating per user from the non-zero elements in the input matrix.\n",
    "    \n",
    "    Parameters\n",
    "    ----------\n",
    "    matrix : sp.spmatrix, shape [N, D]\n",
    "             Input sparse matrix.\n",
    "    Returns\n",
    "    -------\n",
    "    matrix : sp.spmatrix, shape [N, D]\n",
    "             The modified input matrix.\n",
    "    \n",
    "    user_means : np.array, shape [N, 1]\n",
    "                 The mean rating per user that can be used to recover the absolute ratings from the mean-shifted ones.\n",
    "\n",
    "    \"\"\"\n",
    "    \n",
    "    mask = matrix != 0   # remember original zeros\n",
    "    user_means = matrix.sum(1) / mask.sum(1)   # compute user_means\n",
    "    matrix = sp.csr_matrix(mask.multiply(matrix - user_means))\n",
    "    \n",
    "    assert np.all(np.isclose(matrix.mean(1), 0))\n",
    "    return matrix, user_means"
   ]
  },
  {
   "cell_type": "code",
   "execution_count": 9,
   "metadata": {
    "collapsed": true
   },
   "outputs": [],
   "source": [
    "def split_data(matrix, n_validation, n_test):\n",
    "    \"\"\"\n",
    "    Extract validation and test entries from the input matrix. \n",
    "    \n",
    "    Parameters\n",
    "    ----------\n",
    "    matrix          : sp.spmatrix, shape [N, D]\n",
    "                      The input data matrix.\n",
    "    n_validation    : int\n",
    "                      The number of validation entries to extract.\n",
    "    n_test          : int\n",
    "                      The number of test entries to extract.\n",
    "\n",
    "    Returns\n",
    "    -------\n",
    "    matrix_split    : sp.spmatrix, shape [N, D]\n",
    "                      A copy of the input matrix in which the validation and test entries have been set to zero.\n",
    "    \n",
    "    val_idx         : tuple, shape [2, n_validation]\n",
    "                      The indices of the validation entries.\n",
    "    \n",
    "    test_idx        : tuple, shape [2, n_test]\n",
    "                      The indices of the test entries.\n",
    "    \n",
    "    val_values      : np.array, shape [n_validation, ]\n",
    "                      The values of the input matrix at the validation indices.\n",
    "                      \n",
    "    test_values     : np.array, shape [n_test, ]\n",
    "                      The values of the input matrix at the test indices.\n",
    "\n",
    "    \"\"\"\n",
    "    \n",
    "    # sample idx pairs from all non zero elements\n",
    "    non_zero_elements = matrix.nonzero()\n",
    "    samples_idx = np.random.choice(range(len(non_zero_elements[0])), n_validation + n_test)\n",
    "    all_idx = np.zeros((2, n_validation + n_test))\n",
    "    all_idx = np.array([non_zero_elements[0][samples_idx], non_zero_elements[1][samples_idx]])\n",
    "    \n",
    "    # split the randomly sampled idx pairs into test and validation and save the corresponding values\n",
    "    val_idx = all_idx[:, :n_validation]\n",
    "    test_idx = all_idx[:, n_validation:]\n",
    "    val_values = np.squeeze(np.array(M[val_idx[0], val_idx[1]]))\n",
    "    test_values = np.squeeze(np.array(M[test_idx[0], test_idx[1]]))\n",
    "    \n",
    "    # modify original matrix\n",
    "    matrix_split = matrix.copy()\n",
    "    matrix_split[all_idx[0], all_idx[1]] = 0\n",
    "    matrix_split.eliminate_zeros()\n",
    "    \n",
    "    \n",
    "    return matrix_split, val_idx, test_idx, val_values, test_values"
   ]
  },
  {
   "cell_type": "code",
   "execution_count": 10,
   "metadata": {},
   "outputs": [
    {
     "name": "stdout",
     "output_type": "stream",
     "text": [
      "Shape before: (337867, 5899)\n",
      "Shape after: (11275, 3531)\n"
     ]
    }
   ],
   "source": [
    "M = cold_start_preprocessing(M, 10)"
   ]
  },
  {
   "cell_type": "code",
   "execution_count": 11,
   "metadata": {
    "collapsed": true
   },
   "outputs": [],
   "source": [
    "n_validation = 200\n",
    "n_test = 200\n",
    "# Split data\n",
    "M_train, val_idx, test_idx, val_values, test_values = split_data(M, n_validation, n_test)"
   ]
  },
  {
   "cell_type": "code",
   "execution_count": 12,
   "metadata": {
    "collapsed": true
   },
   "outputs": [],
   "source": [
    "# Store away the nonzero indices of M before subtracting the row means.\n",
    "nonzero_indices =  M.nonzero()\n",
    "\n",
    "# Remove user means.\n",
    "M_shifted, user_means = shift_user_mean(M_train)\n",
    "\n",
    "# Apply the same shift to the validation and test data.\n",
    "val_values_shifted = np.squeeze(np.array([val_values[i] - user_means[val_idx[0, i]] for i in range(n_validation)]))\n",
    "test_values_shifted = np.squeeze(np.array([test_values[i] - user_means[test_idx[0, i]] for i in range(n_validation)]))"
   ]
  },
  {
   "cell_type": "markdown",
   "metadata": {},
   "source": [
    "## 3. Alternating optimization"
   ]
  },
  {
   "cell_type": "markdown",
   "metadata": {},
   "source": [
    "In the first step, we will approach the problem via alternating optimization. To initialize the two matrices P and Q, we will either use SVD or a random initialization. The approach is to update single vectors of Q (row vectors) and P (column vectors) iteratively. We will freeze Q and then find optimal column vectors in P and then do the same for Q, freezing P and repeat all until convergence."
   ]
  },
  {
   "cell_type": "code",
   "execution_count": 13,
   "metadata": {
    "collapsed": true
   },
   "outputs": [],
   "source": [
    "def initialize_Q_P(matrix, k, init='random'):\n",
    "    \"\"\"\n",
    "    Initialize the matrices Q and P for a latent factor model.\n",
    "    \n",
    "    Parameters\n",
    "    ----------\n",
    "    matrix : sp.spmatrix, shape [N, D]\n",
    "             The matrix to be factorized.\n",
    "    k      : int\n",
    "             The number of latent dimensions.\n",
    "    init   : str in ['svd', 'random'], default: 'random'\n",
    "             The initialization strategy. 'svd' means that we use SVD to initialize P and Q, 'random' means we initialize\n",
    "             the entries in P and Q randomly in the interval [0, 1).\n",
    "\n",
    "    Returns\n",
    "    -------\n",
    "    Q : np.array, shape [N, k]\n",
    "        The initialized matrix Q of a latent factor model.\n",
    "\n",
    "    P : np.array, shape [k, D]\n",
    "        The initialized matrix P of a latent factor model.\n",
    "    \"\"\"\n",
    "\n",
    "    N, D = matrix.shape\n",
    "    if init == 'svd':\n",
    "        Q, _, P = svds(matrix, k=k) # Error: Q should a product of the original matrices Q and Sigma!!!!\n",
    "    elif init == 'random':\n",
    "        Q, P = np.random.uniform(size=(N, k)), np.random.uniform(size=(k, D))\n",
    "    else:\n",
    "        raise ValueError\n",
    "        \n",
    "    assert Q.shape == (matrix.shape[0], k)\n",
    "    assert P.shape == (k, matrix.shape[1])\n",
    "    return Q, P"
   ]
  },
  {
   "cell_type": "code",
   "execution_count": 14,
   "metadata": {
    "collapsed": true
   },
   "outputs": [],
   "source": [
    "def latent_factor_alternating_optimization(M, non_zero_idx, k, val_idx, val_values,\n",
    "                                           reg_lambda, max_steps=100, init='random',\n",
    "                                           log_every=1, patience=10, eval_every=1):\n",
    "    \"\"\"\n",
    "    Perform matrix factorization using alternating optimization. Training is done via patience,\n",
    "    i.e. we stop training after we observe no improvement on the validation loss for a certain\n",
    "    amount of training steps. We then return the best values for Q and P oberved during training.\n",
    "    \n",
    "    Parameters\n",
    "    ----------\n",
    "    M                 : sp.spmatrix, shape [N, D]\n",
    "                        The input matrix to be factorized.\n",
    "                      \n",
    "    non_zero_idx      : np.array, shape [nnz, 2]\n",
    "                        The indices of the non-zero entries of the un-shifted matrix to be factorized. \n",
    "                        nnz refers to the number of non-zero entries. Note that this may be different\n",
    "                        from the number of non-zero entries in the input matrix M, e.g. in the case\n",
    "                        that all ratings by a user have the same value.\n",
    "    \n",
    "    k                 : int\n",
    "                        The latent factor dimension.\n",
    "    \n",
    "    val_idx           : tuple, shape [2, n_validation]\n",
    "                        Tuple of the validation set indices.\n",
    "                        n_validation refers to the size of the validation set.\n",
    "                      \n",
    "    val_values        : np.array, shape [n_validation, ]\n",
    "                        The values in the validation set.\n",
    "                      \n",
    "    reg_lambda        : float\n",
    "                        The regularization strength.\n",
    "                      \n",
    "    max_steps         : int, optional, default: 100\n",
    "                        Maximum number of training steps. Note that we will stop early if we observe\n",
    "                        no improvement on the validation error for a specified number of steps\n",
    "                        (see \"patience\" for details).\n",
    "                      \n",
    "    init              : str in ['random', 'svd'], default 'random'\n",
    "                        The initialization strategy for P and Q. See function initialize_Q_P for details.\n",
    "    \n",
    "    log_every         : int, optional, default: 1\n",
    "                        Log the training status every X iterations.\n",
    "                    \n",
    "    patience          : int, optional, default: 10\n",
    "                        Stop training after we observe no improvement of the validation loss for X evaluation\n",
    "                        iterations (see eval_every for details). After we stop training, we restore the best \n",
    "                        observed values for Q and P (based on the validation loss) and return them.\n",
    "                      \n",
    "    eval_every        : int, optional, default: 1\n",
    "                        Evaluate the training and validation loss every X steps. If we observe no improvement\n",
    "                        of the validation error, we decrease our patience by 1, else we reset it to *patience*.\n",
    "\n",
    "    Returns\n",
    "    -------\n",
    "    best_Q            : np.array, shape [N, k]\n",
    "                        Best value for Q (based on validation loss) observed during training\n",
    "                      \n",
    "    best_P            : np.array, shape [k, D]\n",
    "                        Best value for P (based on validation loss) observed during training\n",
    "                      \n",
    "    validation_losses : list of floats\n",
    "                        Validation loss for every evaluation iteration, can be used for plotting the validation\n",
    "                        loss over time.\n",
    "                        \n",
    "    train_losses      : list of floats\n",
    "                        Training loss for every evaluation iteration, can be used for plotting the training\n",
    "                        loss over time.                     \n",
    "    \n",
    "    converged_after   : int\n",
    "                        it - patience*eval_every, where it is the iteration in which patience hits 0,\n",
    "                        or -1 if we hit max_steps before converging. \n",
    "\n",
    "    \"\"\"\n",
    "\n",
    "    best_Q, best_P = None, None\n",
    "    best_val_loss = np.infty\n",
    "    train_losses, validation_losses = [], []\n",
    "    \n",
    "    # initialize P & Q\n",
    "    Q, P = initialize_Q_P(M, k, init=init)\n",
    "    \n",
    "    # iterate/train until no_improvement_counter > patience or reached max_steps\n",
    "    no_improvement_counter = 0\n",
    "    step = 0\n",
    "    while step <= max_steps:\n",
    "    \n",
    "        # check whether it is time for evaluation\n",
    "        if step % eval_every == 0:\n",
    "\n",
    "            # compute training and validation loss\n",
    "            M_estimate = Q.dot(P)\n",
    "            train_diff = M[M.nonzero()] - M_estimate[M.nonzero()]\n",
    "            train_loss = train_diff * train_diff.T\n",
    "            train_losses.append(train_loss[0,0])\n",
    "            validation_diff = val_values - M_estimate[val_idx[0], val_idx[1]]\n",
    "            validation_loss = validation_diff.dot(validation_diff)\n",
    "            validation_losses.append(validation_loss)\n",
    "            \n",
    "            print('Iteration ' + str(step) + ', training loss: ' + str(round(train_loss[0,0], 2)) + \n",
    "              ', validation loss: ' + str(round(validation_loss, 2)))\n",
    "            \n",
    "            # if current Q, P best factors save them\n",
    "            if best_val_loss > validation_loss:\n",
    "                best_Q, best_P = Q.copy(), P.copy()\n",
    "                best_val_loss = validation_loss\n",
    "                no_improvement_counter = 0\n",
    "            else: \n",
    "                no_improvement_counter += 1\n",
    "                if no_improvement_counter >= patience:\n",
    "                    break\n",
    "        \n",
    "        # update P\n",
    "        for i in range(P.shape[1]):\n",
    "\n",
    "            # initialize regressor\n",
    "            clf = Ridge(alpha=reg_lambda)\n",
    "\n",
    "            # determine matrix X and target y for regression problem\n",
    "            idx = non_zero_idx[0][non_zero_idx[1] == i]\n",
    "            X = Q[idx, :]\n",
    "            y = np.squeeze(np.array(M[idx, i].todense()))\n",
    "\n",
    "            # fit and store results in P\n",
    "            ridge = clf.fit(X,y)\n",
    "            P[:, i] = ridge.coef_\n",
    "        \n",
    "        # update Q\n",
    "        for i in range(Q.shape[0]):\n",
    "\n",
    "            # initialize regressor\n",
    "            clf = Ridge(alpha=reg_lambda)\n",
    "\n",
    "            # determine matrix X and target y for regression problem\n",
    "            idx = non_zero_idx[1][non_zero_idx[0] == i]\n",
    "            X = P[:, idx]\n",
    "            y = np.squeeze(np.array(M[i, idx].todense()))\n",
    "\n",
    "            # fit and store results in Q\n",
    "            ridge = clf.fit(X.T,y)\n",
    "            Q[i, :] = ridge.coef_\n",
    "        \n",
    "        step += 1\n",
    "    \n",
    "    converged_after = -1 if step > max_steps else step - patience\n",
    "    \n",
    "    print('Converged after ' + str(converged_after) + ' iterations.')\n",
    "    \n",
    "    return best_Q, best_P, validation_losses, train_losses, converged_after\n"
   ]
  },
  {
   "cell_type": "markdown",
   "metadata": {},
   "source": [
    "### Training the latent factor model with alternating optimization."
   ]
  },
  {
   "cell_type": "markdown",
   "metadata": {},
   "source": [
    "We will learn the optimal $P$ and $Q$ using alternating optimization. That is, during each iteration, we first update $Q$ while having $P$ fixed and then vice versa. We will run the alternating optimization algorithm with $k=100$ and $\\lambda=1$ and plot the training and validation losses over time."
   ]
  },
  {
   "cell_type": "code",
   "execution_count": 15,
   "metadata": {},
   "outputs": [
    {
     "name": "stdout",
     "output_type": "stream",
     "text": [
      "Iteration 0, training loss: 174880750.08, validation loss: 125072.2\n",
      "Iteration 1, training loss: 31169.96, validation loss: 253.12\n",
      "Iteration 2, training loss: 11058.15, validation loss: 250.87\n",
      "Iteration 3, training loss: 8104.53, validation loss: 251.93\n",
      "Iteration 4, training loss: 7111.16, validation loss: 251.96\n",
      "Iteration 5, training loss: 6636.5, validation loss: 251.52\n",
      "Iteration 6, training loss: 6361.16, validation loss: 250.84\n",
      "Iteration 7, training loss: 6183.49, validation loss: 250.15\n",
      "Iteration 8, training loss: 6061.31, validation loss: 249.59\n",
      "Iteration 9, training loss: 5973.1, validation loss: 249.21\n",
      "Iteration 10, training loss: 5906.3, validation loss: 249.0\n",
      "Iteration 11, training loss: 5853.29, validation loss: 248.96\n",
      "Iteration 12, training loss: 5809.5, validation loss: 249.02\n",
      "Iteration 13, training loss: 5772.2, validation loss: 249.13\n",
      "Iteration 14, training loss: 5739.65, validation loss: 249.27\n",
      "Iteration 15, training loss: 5710.67, validation loss: 249.41\n",
      "Iteration 16, training loss: 5684.43, validation loss: 249.54\n",
      "Iteration 17, training loss: 5660.4, validation loss: 249.66\n",
      "Iteration 18, training loss: 5638.26, validation loss: 249.78\n",
      "Iteration 19, training loss: 5617.76, validation loss: 249.9\n",
      "Iteration 20, training loss: 5598.74, validation loss: 250.02\n",
      "Iteration 21, training loss: 5581.02, validation loss: 250.13\n",
      "Converged after 11 iterations.\n"
     ]
    }
   ],
   "source": [
    "Q_a, P_a, val_l_a, tr_l_a, conv_a = latent_factor_alternating_optimization(M_shifted, nonzero_indices, \n",
    "                                                                           k=100, val_idx=val_idx,\n",
    "                                                                           val_values=val_values_shifted, \n",
    "                                                                           reg_lambda=1, init='random',\n",
    "                                                                           max_steps=100, patience=10)"
   ]
  },
  {
   "cell_type": "markdown",
   "metadata": {},
   "source": [
    "### Plot of the validation and training losses over training time\n",
    "\n",
    "**Note** that after few iteration, the validation loss increases! Early stopping is the way to go against the overfitting to the training data!"
   ]
  },
  {
   "cell_type": "code",
   "execution_count": 16,
   "metadata": {},
   "outputs": [
    {
     "data": {
      "image/png": "[encoded data removed]",
      "text/plain": [
       "<matplotlib.figure.Figure at 0x2082b3f1160>"
      ]
     },
     "metadata": {},
     "output_type": "display_data"
    },
    {
     "data": {
      "image/png": "[encoded data removed]",
      "text/plain": [
       "<matplotlib.figure.Figure at 0x2082d0225c0>"
      ]
     },
     "metadata": {},
     "output_type": "display_data"
    }
   ],
   "source": [
    "fig = plt.figure()\n",
    "x = range(len(val_l_a))\n",
    "plt.plot(x[3:], val_l_a[3:])\n",
    "plt.title('Alternating optimization validation loss, k=100')\n",
    "plt.xlabel('Iteration')\n",
    "plt.ylabel('Validation loss')\n",
    "\n",
    "fig = plt.figure()\n",
    "x = range(len(tr_l_a))\n",
    "plt.plot(x[3:], tr_l_a[3:])\n",
    "plt.title('Alternating optimization training loss, k=100')\n",
    "plt.xlabel('Iteration')\n",
    "plt.ylabel('Training loss')\n",
    "\n",
    "plt.show()"
   ]
  },
  {
   "cell_type": "markdown",
   "metadata": {},
   "source": [
    "#### We will try some different latent dimensions $k$. "
   ]
  },
  {
   "cell_type": "code",
   "execution_count": 20,
   "metadata": {},
   "outputs": [
    {
     "name": "stdout",
     "output_type": "stream",
     "text": [
      "Iteration 0, training loss: 7765068.645, validation loss: 5523.554\n",
      "Iteration 1, training loss: 106867.510, validation loss: 705.126\n",
      "Iteration 2, training loss: 82654.821, validation loss: 613.702\n",
      "Iteration 3, training loss: 70874.674, validation loss: 647.832\n",
      "Iteration 4, training loss: 63519.477, validation loss: 693.470\n",
      "Iteration 5, training loss: 58398.719, validation loss: 708.338\n",
      "Iteration 6, training loss: 54585.352, validation loss: 708.316\n",
      "Iteration 7, training loss: 51609.199, validation loss: 704.384\n",
      "Iteration 8, training loss: 49207.058, validation loss: 700.860\n",
      "Iteration 9, training loss: 47218.316, validation loss: 697.695\n",
      "Iteration 10, training loss: 45542.649, validation loss: 694.655\n",
      "Iteration 11, training loss: 44112.976, validation loss: 691.743\n",
      "Converged after 2 iterations, on average 14.411 per iteration\n"
     ]
    }
   ],
   "source": [
    "Q_a_2, P_a_2, val_l_a_2, tr_l_a_2, conv_a_2 = latent_factor_alternating_optimization(M_shifted, nonzero_indices, \n",
    "                                                                           k=20, val_idx=val_idx,\n",
    "                                                                           val_values=val_values_shifted, \n",
    "                                                                           reg_lambda=0.1, init='random',\n",
    "                                                                           max_steps=100, patience=10)"
   ]
  },
  {
   "cell_type": "markdown",
   "metadata": {},
   "source": [
    "#### ... and plot the validation and training losses over training time"
   ]
  },
  {
   "cell_type": "code",
   "execution_count": 25,
   "metadata": {},
   "outputs": [
    {
     "data": {
      "image/png": "[encoded data removed]",
      "text/plain": [
       "<matplotlib.figure.Figure at 0x1a14796828>"
      ]
     },
     "metadata": {},
     "output_type": "display_data"
    },
    {
     "data": {
      "image/png": "[encoded data removed]",
      "text/plain": [
       "<matplotlib.figure.Figure at 0x1a14796748>"
      ]
     },
     "metadata": {},
     "output_type": "display_data"
    }
   ],
   "source": [
    "fig = plt.figure()\n",
    "x = range(len(val_l_a))\n",
    "plt.plot(x[3:], val_l_a[3:])\n",
    "plt.title('Alternating optimization validation loss, k=20')\n",
    "plt.xlabel('Iteration')\n",
    "plt.ylabel('Validation loss')\n",
    "\n",
    "fig = plt.figure()\n",
    "x = range(len(tr_l_a))\n",
    "plt.plot(x[3:], tr_l_a[3:])\n",
    "plt.title('Alternating optimization training loss, k=20')\n",
    "plt.xlabel('Iteration')\n",
    "plt.ylabel('Training loss')\n",
    "\n",
    "plt.show()"
   ]
  },
  {
   "cell_type": "markdown",
   "metadata": {},
   "source": [
    "## 4. Latent factorization using gradient descent"
   ]
  },
  {
   "cell_type": "markdown",
   "metadata": {},
   "source": [
    "We now use gradient descent to factorize our ratings matrix. We will try both (mini-) batch and stochastic gradient descent.\n",
    "\n",
    "Recall that the objective function (loss) we wanted to optimize was:\n",
    "$$\n",
    "\\mathcal{L} = \\min_{P, Q} \\sum_{(x, i) \\in W} (r_{xi} - \\mathbf{q}_i^T\\mathbf{p}_x)^2 + \\lambda_1\\sum_x{\\left\\lVert \\mathbf{p}_x  \\right\\rVert}^2 + \\lambda_2\\sum_i {\\left\\lVert\\mathbf{q}_i  \\right\\rVert}^2\n",
    "$$\n",
    "\n",
    "where $W$ is the set of $(x, i)$ pairs for which $r_{xi}$ is known (in this case our known play counts). Here we have also introduced two regularization terms to help us with overfitting where $\\lambda_1$ and $\\lambda_2$ are hyper-parameters that control the strength of the regularization.\n",
    "\n",
    "Naturally optimizing with gradient descent involves computing the gradient of the loss function $\\mathcal{L}$ w.r.t. to the parameters. To help you solve the task we provide the following:\n",
    "\n",
    "$$\n",
    "\\frac{\\partial ((r_{xi} - \\mathbf{q}_i^T\\mathbf{p}_x)^2)}{\\partial \\mathbf{p}_x} = -2(r_{xi} - \\mathbf{q}_i^T\\mathbf{p}_x)\\mathbf{q}_i\\;, ~~~\n",
    "\\frac{\\partial ((r_{xi} - \\mathbf{q}_i^T\\mathbf{p}_x)^2)}{\\partial \\mathbf{q}_i} = -2(r_{xi} - \\mathbf{q}_i^T\\mathbf{p}_x)\\mathbf{p}_x \n",
    "$$\n",
    "\n",
    "$$\n",
    "\\frac{\\partial(\\lambda_1{\\left\\lVert \\mathbf{p}_x \\right\\rVert}^2)}{\\partial \\mathbf{p}_x} = 2 \\lambda_1 \\mathbf{p_x} \\;, ~~~\n",
    "\\frac{\\partial(\\lambda_2{\\left\\lVert \\mathbf{q}_i \\right\\rVert}^2)}{\\partial \\mathbf{q}_i} = 2 \\lambda_2 \\mathbf{q_i}\n",
    "$$\n",
    "\n",
    "**!!!**: We have to carefully consider how to combine the given partial gradients depending\n",
    "on which variants of gradient descent you are using.  \n",
    "**!!!**: It may be useful to scale the updates to $P$ and $Q$ by $\\frac{1}{batch\\_size}$ (in the case of full-sweep updates, this would be $\\frac{1}{n\\_users}$ for $Q$ and $\\frac{1}{n\\_restaurants}$ for $P$).\n",
    "\n",
    "\n",
    "For each of the gradients descent variants, we report and compare the following:\n",
    "* How many iterations do you need for convergence.\n",
    "* Plot the loss (y axis) for each iteration (x axis).\n"
   ]
  },
  {
   "cell_type": "code",
   "execution_count": 17,
   "metadata": {
    "collapsed": true
   },
   "outputs": [],
   "source": [
    "def latent_factor_gradient_descent(M, non_zero_idx, k, val_idx, val_values, \n",
    "                                   reg_lambda, learning_rate, batch_size=-1,\n",
    "                                   max_steps=50000, init='random',\n",
    "                                   log_every=1000, patience=20,\n",
    "                                   eval_every=50):\n",
    "    \"\"\"\n",
    "    Perform matrix factorization using gradient descent. Training is done via patience,\n",
    "    i.e. we stop training after we observe no improvement on the validation loss for a certain\n",
    "    amount of training steps. We then return the best values for Q and P oberved during training.\n",
    "    \n",
    "    Parameters\n",
    "    ----------\n",
    "    M                 : sp.spmatrix, shape [N, D]\n",
    "                        The input matrix to be factorized.\n",
    "                      \n",
    "    non_zero_idx      : np.array, shape [nnz, 2]\n",
    "                        The indices of the non-zero entries of the un-shifted matrix to be factorized. \n",
    "                        nnz refers to the number of non-zero entries. Note that this may be different\n",
    "                        from the number of non-zero entries in the input matrix M, e.g. in the case\n",
    "                        that all ratings by a user have the same value.\n",
    "    \n",
    "    k                 : int\n",
    "                        The latent factor dimension.\n",
    "    \n",
    "    val_idx           : tuple, shape [2, n_validation]\n",
    "                        Tuple of the validation set indices.\n",
    "                        n_validation refers to the size of the validation set.\n",
    "                      \n",
    "    val_values        : np.array, shape [n_validation, ]\n",
    "                        The values in the validation set.\n",
    "                      \n",
    "    reg_lambda        : float\n",
    "                        The regularization strength.\n",
    "\n",
    "    learning_rate     : float\n",
    "                        Step size of the gradient descent updates.\n",
    "                        \n",
    "    batch_size        : int, optional, default: -1\n",
    "                        (Mini-) batch size. -1 means we perform standard full-sweep gradient descent.\n",
    "                        If the batch size is >0, use mini batches of this given size.\n",
    "                        \n",
    "    max_steps         : int, optional, default: 100\n",
    "                        Maximum number of training steps. Note that we will stop early if we observe\n",
    "                        no improvement on the validation error for a specified number of steps\n",
    "                        (see \"patience\" for details).\n",
    "                      \n",
    "    init              : str in ['random', 'svd'], default 'random'\n",
    "                        The initialization strategy for P and Q. See function initialize_Q_P for details.\n",
    "    \n",
    "    log_every         : int, optional, default: 1\n",
    "                        Log the training status every X iterations.\n",
    "                    \n",
    "    patience          : int, optional, default: 10\n",
    "                        Stop training after we observe no improvement of the validation loss for X evaluation\n",
    "                        iterations (see eval_every for details). After we stop training, we restore the best \n",
    "                        observed values for Q and P (based on the validation loss) and return them.\n",
    "                      \n",
    "    eval_every        : int, optional, default: 1\n",
    "                        Evaluate the training and validation loss every X steps. If we observe no improvement\n",
    "                        of the validation error, we decrease our patience by 1, else we reset it to *patience*.\n",
    "                        \n",
    "    Returns\n",
    "    -------\n",
    "    best_Q            : np.array, shape [N, k]\n",
    "                        Best value for Q (based on validation loss) observed during training\n",
    "                      \n",
    "    best_P            : np.array, shape [k, D]\n",
    "                        Best value for P (based on validation loss) observed during training\n",
    "                      \n",
    "    validation_losses : list of floats\n",
    "                        Validation loss for every evaluation iteration, can be used for plotting the validation\n",
    "                        loss over time.\n",
    "                        \n",
    "    train_losses      : list of floats\n",
    "                        Training loss for every evaluation iteration, can be used for plotting the training\n",
    "                        loss over time.                     \n",
    "    \n",
    "    converged_after   : int\n",
    "                        it - patience*eval_every, where it is the iteration in which patience hits 0,\n",
    "                        or -1 if we hit max_steps before converging. \n",
    "\n",
    "    \"\"\"\n",
    "       \n",
    "    N, D = M.shape\n",
    "    best_Q, best_P = None, None\n",
    "    best_val_loss = np.infty\n",
    "    train_losses, validation_losses = [], []\n",
    "    \n",
    "    # initialize P & Q\n",
    "    Q, P = initialize_Q_P(M, k, init=init)\n",
    "    \n",
    "    # iterate/train until no_improvement_counter > patience or reached max_steps\n",
    "    no_improvement_counter = 0\n",
    "    step = 0\n",
    "    \n",
    "    if batch_size == -1:\n",
    "        batch = non_zero_idx\n",
    "        unique_x = np.unique(batch[1])\n",
    "        unique_i = np.unique(batch[0])\n",
    "    \n",
    "    while step <= max_steps:\n",
    "    \n",
    "        # check whether it is time for evaluation or logging\n",
    "        if step % eval_every == 0 or step % log_every == 0:\n",
    "\n",
    "            # compute training and validation loss\n",
    "            M_estimate = Q.dot(P)\n",
    "            train_diff = M[M.nonzero()] - M_estimate[M.nonzero()]\n",
    "            train_loss = train_diff * train_diff.T\n",
    "            train_losses.append(train_loss[0,0])\n",
    "            validation_diff = val_values - M_estimate[val_idx[0], val_idx[1]]\n",
    "            validation_loss = validation_diff.dot(validation_diff)\n",
    "            validation_losses.append(validation_loss)\n",
    "            \n",
    "            # if logging time, log\n",
    "            if step % log_every == 0:\n",
    "                print('Iteration ' + str(step) + ', training loss: ' + str(round(train_loss[0,0], 3)) + \n",
    "                  ', validation loss: ' + str(round(validation_loss, 3)))\n",
    "\n",
    "            # if evaluation time compare result\n",
    "            if step % eval_every == 0:\n",
    "                # if current Q, P best factors save them\n",
    "                if best_val_loss > validation_loss:\n",
    "                    best_Q, best_P = Q.copy(), P.copy()\n",
    "                    best_val_loss = validation_loss\n",
    "                    no_improvement_counter = 0\n",
    "                else: \n",
    "                    no_improvement_counter += 1\n",
    "                    if no_improvement_counter >= patience:\n",
    "                        break\n",
    "        \n",
    "        # if not working on full sweep update draw batch randomly from training samples\n",
    "        if batch_size != -1:\n",
    "            idxs = np.random.choice(range(non_zero_idx[0].size), batch_size, replace=False)\n",
    "            batch = (non_zero_idx[0][idxs], non_zero_idx[1][idxs])\n",
    "            unique_x = np.unique(batch[1])\n",
    "            unique_i = np.unique(batch[0])\n",
    "        \n",
    "        # mini batch or \n",
    "        dL_dP = np.zeros(P.shape)\n",
    "        dL_dQ = np.zeros(Q.shape)\n",
    "        \n",
    "        # compute grad p\n",
    "        for x in unique_x:\n",
    "            i_s = non_zero_idx[0][non_zero_idx[1] == x]\n",
    "            q_is, p_x = Q[i_s, :], P[:, x]\n",
    "            \n",
    "            # apply formula for grad p\n",
    "            r_xi = np.squeeze(np.array(M[i_s, x].todense()))\n",
    "            reg_term = 2 * reg_lambda * p_x\n",
    "            err_term = -2 * (r_xi - q_is.dot(p_x)).dot(q_is)\n",
    "            \n",
    "            dL_dP[:, x] += err_term + reg_term\n",
    "        \n",
    "        # compute grad q\n",
    "        for i in unique_i:\n",
    "            x_s = non_zero_idx[1][non_zero_idx[0] == i]\n",
    "            q_i, p_xs = Q[i, :], P[:, x_s]\n",
    "            \n",
    "            # apply formula for grad q\n",
    "            r_xi = np.squeeze(np.array(M[i, x_s].todense()))\n",
    "            reg_term = 2 * reg_lambda * q_i\n",
    "            err_term = -2 * p_xs.dot(r_xi - q_i.dot(p_xs))\n",
    "            \n",
    "            dL_dQ[i, :] += err_term + reg_term\n",
    "\n",
    "        if batch_size == -1:\n",
    "            P -= learning_rate * dL_dP * D / batch[0].size\n",
    "            Q -= learning_rate * dL_dQ * N / batch[0].size\n",
    "        else:\n",
    "            P -= learning_rate * dL_dP / batch_size\n",
    "            Q -= learning_rate * dL_dQ / batch_size\n",
    "        \n",
    "        step += 1\n",
    "    \n",
    "    converged_after = -1 if step > max_steps else step - patience\n",
    "    \n",
    "    print('Converged after ' + str(converged_after) + ' iterations.')\n",
    "            \n",
    "    return best_Q, best_P, validation_losses, train_losses, converged_after"
   ]
  },
  {
   "cell_type": "markdown",
   "metadata": {},
   "source": [
    "#### Train the latent factor model with standard gradient descent."
   ]
  },
  {
   "cell_type": "markdown",
   "metadata": {},
   "source": [
    "1. We learn the optimal $P$ and $Q$ using standard gradient descent. That is, during each iteration we have to use all of the training examples and update $Q$ and $P$ for all users and songs at once. We try the algorithm with $k=30$, $\\lambda=1$, and learning rate of 0.1 and initialize $Q$ and $P$ with SVD.  "
   ]
  },
  {
   "cell_type": "code",
   "execution_count": 108,
   "metadata": {},
   "outputs": [
    {
     "name": "stdout",
     "output_type": "stream",
     "text": [
      "Iteration 0, training loss: 335283.27, validation loss: 248.28\n",
      "Iteration 2, training loss: 334053.609, validation loss: 248.199\n",
      "Iteration 4, training loss: 332194.025, validation loss: 248.056\n",
      "Iteration 6, training loss: 329397.408, validation loss: 247.807\n",
      "Iteration 8, training loss: 325355.378, validation loss: 247.405\n",
      "Iteration 10, training loss: 319908.842, validation loss: 246.851\n",
      "Converged after -1 iterations.\n"
     ]
    }
   ],
   "source": [
    "#For fast execution we set max_steps = 10, log_every = 2, eval_every = 2\n",
    "#The graph below has been plotted for the initial parameters\n",
    "Q_g_sweep, P_g_sweep, val_l_g_sweep, tr_l_g_sweep, conv_g_sweep =  latent_factor_gradient_descent(M_shifted, nonzero_indices, \n",
    "                                                                                                   k=30, val_idx=val_idx,\n",
    "                                                                                                   val_values=val_values_shifted, \n",
    "                                                                                                   reg_lambda=1, learning_rate=1e-1,\n",
    "                                                                                                   init='svd', batch_size=-1,\n",
    "                                                                                                   max_steps=10, log_every=2, \n",
    "                                                                                                   eval_every=2)"
   ]
  },
  {
   "cell_type": "markdown",
   "metadata": {},
   "source": [
    "#### Plot the validation and training losses over training time"
   ]
  },
  {
   "cell_type": "code",
   "execution_count": 86,
   "metadata": {},
   "outputs": [
    {
     "data": {
      "image/png": "[encoded data removed]",
      "text/plain": [
       "<matplotlib.figure.Figure at 0x16d80352400>"
      ]
     },
     "metadata": {},
     "output_type": "display_data"
    },
    {
     "data": {
      "image/png": "[encoded data removed]",
      "text/plain": [
       "<matplotlib.figure.Figure at 0x16d803e3978>"
      ]
     },
     "metadata": {},
     "output_type": "display_data"
    }
   ],
   "source": [
    "fig = plt.figure()\n",
    "x = range(len(val_l_g_sweep))\n",
    "plt.plot(x, val_l_g_sweep)\n",
    "plt.title('Latent factorization GD validation loss, k=30')\n",
    "plt.xlabel('Iteration')\n",
    "plt.ylabel('Validation loss')\n",
    "\n",
    "fig = plt.figure()\n",
    "plt.plot(x, tr_l_g_sweep)\n",
    "plt.title('Latent factorization GD training loss, k=30')\n",
    "plt.xlabel('Iteration')\n",
    "plt.ylabel('Training loss')\n",
    "\n",
    "plt.show()"
   ]
  },
  {
   "cell_type": "markdown",
   "metadata": {},
   "source": [
    "We learn the optimal $P$ and $Q$ using the original stochastic gradient descent (mini-batches of size 1). That is, during each iteration you sample a single random training example $r_{xi}$ and update only the respective affected parameters $\\mathbf{p_x}$ and $\\mathbf{q}_i$. Set the learning rate to 0.01 and keep the other parameters as in a)."
   ]
  },
  {
   "cell_type": "code",
   "execution_count": 85,
   "metadata": {},
   "outputs": [
    {
     "name": "stdout",
     "output_type": "stream",
     "text": [
      "Iteration 0, training loss: 335305.482, validation loss: 262.599\n",
      "Iteration 500, training loss: 333682.765, validation loss: 262.43\n",
      "Iteration 1000, training loss: 332046.225, validation loss: 262.224\n",
      "Iteration 1500, training loss: 330111.354, validation loss: 261.893\n",
      "Iteration 2000, training loss: 328055.591, validation loss: 261.487\n",
      "Iteration 2500, training loss: 326091.7, validation loss: 260.354\n",
      "Iteration 3000, training loss: 323705.326, validation loss: 259.532\n",
      "Iteration 3500, training loss: 321770.085, validation loss: 259.269\n",
      "Iteration 4000, training loss: 319938.101, validation loss: 259.263\n",
      "Iteration 4500, training loss: 318053.177, validation loss: 259.356\n",
      "Converged after 4530 iterations.\n"
     ]
    }
   ],
   "source": [
    "Q_g_st, P_g_st, val_l_g_st, tr_l_g_st, conv_g_st = latent_factor_gradient_descent(M_shifted, nonzero_indices, \n",
    "                                                                                   k=30, val_idx=val_idx,\n",
    "                                                                                   val_values=val_values_shifted, \n",
    "                                                                                   reg_lambda=1, learning_rate=1e-2,\n",
    "                                                                                   init='svd', batch_size=1,\n",
    "                                                                                   max_steps=20000, log_every=500, \n",
    "                                                                                   eval_every=50)"
   ]
  },
  {
   "cell_type": "markdown",
   "metadata": {},
   "source": [
    "#### Plot the validation and training losses over (training) time"
   ]
  },
  {
   "cell_type": "code",
   "execution_count": 87,
   "metadata": {},
   "outputs": [
    {
     "data": {
      "image/png": "[encoded data removed]",
      "text/plain": [
       "<matplotlib.figure.Figure at 0x16d80677978>"
      ]
     },
     "metadata": {},
     "output_type": "display_data"
    },
    {
     "data": {
      "image/png": "[encoded data removed]",
      "text/plain": [
       "<matplotlib.figure.Figure at 0x16d8061bc50>"
      ]
     },
     "metadata": {},
     "output_type": "display_data"
    }
   ],
   "source": [
    "fig = plt.figure()\n",
    "x = range(len(val_l_g_st))\n",
    "plt.plot(x, val_l_g_st)\n",
    "plt.title('Latent factorization GD validation loss, k=30')\n",
    "plt.xlabel('Iteration')\n",
    "plt.ylabel('Validation loss')\n",
    "\n",
    "fig = plt.figure()\n",
    "plt.plot(x, tr_l_g_st)\n",
    "plt.title('Latent factorization GD training loss, k=30')\n",
    "plt.xlabel('Iteration')\n",
    "plt.ylabel('Training loss')\n",
    "\n",
    "plt.show()"
   ]
  },
  {
   "cell_type": "markdown",
   "metadata": {},
   "source": [
    "We now learn the optimal $P$ and $Q$ this time using larger mini-batches of size 32."
   ]
  },
  {
   "cell_type": "code",
   "execution_count": 88,
   "metadata": {},
   "outputs": [
    {
     "name": "stdout",
     "output_type": "stream",
     "text": [
      "Iteration 0, training loss: 335305.482, validation loss: 262.599\n",
      "Iteration 100, training loss: 332086.989, validation loss: 262.181\n",
      "Iteration 200, training loss: 327774.205, validation loss: 261.243\n",
      "Iteration 300, training loss: 323153.364, validation loss: 260.185\n",
      "Iteration 400, training loss: 318652.913, validation loss: 259.217\n",
      "Iteration 500, training loss: 314530.546, validation loss: 258.293\n",
      "Iteration 600, training loss: 310739.028, validation loss: 257.527\n",
      "Iteration 700, training loss: 306968.013, validation loss: 256.693\n",
      "Iteration 800, training loss: 303289.934, validation loss: 256.313\n",
      "Iteration 900, training loss: 299458.264, validation loss: 255.955\n",
      "Iteration 1000, training loss: 295669.664, validation loss: 255.412\n",
      "Iteration 1100, training loss: 291835.248, validation loss: 255.11\n",
      "Iteration 1200, training loss: 288040.103, validation loss: 255.036\n",
      "Iteration 1300, training loss: 284253.136, validation loss: 255.27\n",
      "Iteration 1400, training loss: 280325.229, validation loss: 254.952\n",
      "Iteration 1500, training loss: 276493.028, validation loss: 254.759\n",
      "Iteration 1600, training loss: 272687.948, validation loss: 253.771\n",
      "Iteration 1700, training loss: 268826.989, validation loss: 253.342\n",
      "Iteration 1800, training loss: 265047.396, validation loss: 252.121\n",
      "Iteration 1900, training loss: 261200.767, validation loss: 252.036\n",
      "Iteration 2000, training loss: 257374.249, validation loss: 251.608\n",
      "Iteration 2100, training loss: 253662.414, validation loss: 250.18\n",
      "Iteration 2200, training loss: 249989.264, validation loss: 249.614\n",
      "Iteration 2300, training loss: 253845.081, validation loss: 248.286\n",
      "Iteration 2400, training loss: 243192.052, validation loss: 248.077\n",
      "Iteration 2500, training loss: 239456.212, validation loss: 246.607\n",
      "Iteration 2600, training loss: 235970.304, validation loss: 245.733\n",
      "Iteration 2700, training loss: 232555.564, validation loss: 248.763\n",
      "Iteration 2800, training loss: 229933.461, validation loss: 245.764\n",
      "Iteration 2900, training loss: 228547.451, validation loss: 271.744\n",
      "Iteration 3000, training loss: 223756.803, validation loss: 249.422\n",
      "Iteration 3100, training loss: 220067.116, validation loss: 252.661\n",
      "Iteration 3200, training loss: 217402.378, validation loss: 249.946\n",
      "Iteration 3300, training loss: 214934.17, validation loss: 252.183\n",
      "Iteration 3400, training loss: 213346.799, validation loss: 246.904\n",
      "Iteration 3500, training loss: 208015.304, validation loss: 248.299\n",
      "Iteration 3600, training loss: 205604.935, validation loss: 248.774\n",
      "Converged after 3580 iterations.\n"
     ]
    }
   ],
   "source": [
    "Q_g_mb, P_g_mb, val_l_g_mb, tr_l_g_mb, conv_g_mb = latent_factor_gradient_descent(M_shifted, nonzero_indices, \n",
    "                                                                                   k=30, val_idx=val_idx,\n",
    "                                                                                   val_values=val_values_shifted, \n",
    "                                                                                   reg_lambda=1, learning_rate=1e-1,\n",
    "                                                                                   init='svd', batch_size=32,\n",
    "                                                                                   max_steps=10000, log_every=100, \n",
    "                                                                                   eval_every=50)"
   ]
  },
  {
   "cell_type": "markdown",
   "metadata": {},
   "source": [
    "#### Plot the validation and training losses over (training) time"
   ]
  },
  {
   "cell_type": "code",
   "execution_count": 89,
   "metadata": {},
   "outputs": [
    {
     "data": {
      "image/png": "[encoded data removed]",
      "text/plain": [
       "<matplotlib.figure.Figure at 0x16d80153898>"
      ]
     },
     "metadata": {},
     "output_type": "display_data"
    },
    {
     "data": {
      "image/png": "[encoded data removed]",
      "text/plain": [
       "<matplotlib.figure.Figure at 0x16d801b09b0>"
      ]
     },
     "metadata": {},
     "output_type": "display_data"
    }
   ],
   "source": [
    "fig = plt.figure()\n",
    "x = range(len(val_l_g_mb))\n",
    "plt.plot(x, val_l_g_mb)\n",
    "plt.title('Latent factorization GD validation loss, k=30')\n",
    "plt.xlabel('Iteration')\n",
    "plt.ylabel('Validation loss')\n",
    "\n",
    "fig = plt.figure()\n",
    "plt.plot(x, tr_l_g_mb)\n",
    "plt.title('Latent factorization GD training loss, k=30')\n",
    "plt.xlabel('Iteration')\n",
    "plt.ylabel('Training loss')\n",
    "\n",
    "plt.show()"
   ]
  },
  {
   "cell_type": "markdown",
   "metadata": {},
   "source": [
    "## 4.5 Hyperparameter search"
   ]
  },
  {
   "cell_type": "markdown",
   "metadata": {},
   "source": [
    "Machine learning models are often heavily dependent on the hyperparameter settings, e.g. the learning rate. Here, we will try a simple random search to find good values of the latent factor dimension $k$, the batch size, learning rate, and regularization.  \n",
    "\n",
    "\n",
    "We will perform a hyperparameter search to find good values for the batch size, lambda, learning rate, and latent dimension. \n",
    "\n",
    "* For the batch size, we evaluate all values in [1, 32, 512, -1] (-1 corresponds to full-sweep gradient descent).\n",
    "* For $\\lambda$, randomly sample three values in the interval [0, 1).\n",
    "* For the learning rate, evaluate all values in [1, 0.1, 0.01].\n",
    "* For the latent dimension, uniformly sample three values in the interval [5,30].\n",
    "\n",
    "We perform an exhaustive search among all combinations of these values.\n",
    "\n",
    "**!!!**: This may take a while to compute. We use \"dummy\" code instead of actual model training. (You can let it train, e.g., for only one iteration if you don't want to wait). "
   ]
  },
  {
   "cell_type": "code",
   "execution_count": 32,
   "metadata": {
    "collapsed": true
   },
   "outputs": [],
   "source": [
    "def parameter_search(M_train, val_idx, val_values):\n",
    "    \"\"\"\n",
    "    Hyperparameter search using random search.\n",
    "    \n",
    "    Parameters\n",
    "    ----------\n",
    "    \n",
    "    M_train     : sp.spmatrix, shape [N, D]\n",
    "                  Input sparse matrix where the user means have not\n",
    "                  been subtracted yet. \n",
    "                  \n",
    "    val_idx     : tuple, shape [2, n_validation]\n",
    "                  The indices used for validation, where n_validation\n",
    "                  is the size of the validation set.\n",
    "                  \n",
    "    val_values  : np.array, shape [n_validation, ]\n",
    "                  Validation set values, where n_validation is the\n",
    "                  size of the validation set.\n",
    "\n",
    "    Returns\n",
    "    -------\n",
    "    best_conf   : tuple, (batch_size, lambda, learning_rate, latent_dimension)\n",
    "                  The best-performing hyperparameters.\n",
    "                  \n",
    "\n",
    "    \"\"\"\n",
    "    \n",
    "    # initialize parameter lists\n",
    "    batch_sizes = [1, 32, 512,-1]\n",
    "    lambdas = np.random.random(3)\n",
    "    learning_rates = [1, 0.1, 0.01] \n",
    "    latent_dimensions = np.round(25 * np.random.random(3) + 5).astype(np.int)\n",
    "    \n",
    "    # container for optimal val performance and configuration\n",
    "    best_conf = None\n",
    "    best_val = np.infty\n",
    "    \n",
    "    # loop over values\n",
    "    for bs in batch_sizes:\n",
    "        for ld in lambdas:\n",
    "            for lr in learning_rates:\n",
    "                for k in latent_dimensions:\n",
    "                    current_conf = (bs, ld, lr, k)\n",
    "                    print('Training configuration ' + str(current_conf) + '.....')\n",
    "                    #For fast execution we set max_steps = 1, log_every = 1, eval_every = 1\n",
    "                    Q_g, P_g, val_l_g, tr_l_g, conv_g = latent_factor_gradient_descent(M_shifted, nonzero_indices, \n",
    "                                                                                   k=k, val_idx=val_idx,\n",
    "                                                                                   val_values=val_values_shifted, \n",
    "                                                                                   reg_lambda=ld, learning_rate=lr,\n",
    "                                                                                   init='svd', batch_size=bs,\n",
    "                                                                                   max_steps=1, log_every=1, \n",
    "                                                                                   eval_every=1)\n",
    "                    \n",
    "                    optimum = np.min(val_l_g)\n",
    "                    print('Done. Best validation loss ' + str(optimum))\n",
    "                    if optimum < best_val:\n",
    "                        best_conf = current_conf\n",
    "                        best_val = optimum\n",
    "                        print('New best configuration: ' + str(current_conf))\n",
    "                    print('------------------------------')\n",
    "        \n",
    "    print(\"Best configuration is: \"+str(best_conf))\n",
    "    return best_conf\n",
    "    "
   ]
  },
  {
   "cell_type": "code",
   "execution_count": 33,
   "metadata": {},
   "outputs": [
    {
     "name": "stdout",
     "output_type": "stream",
     "text": [
      "Training configuration (1, 0.13131431612601308, 1, 25).....\n",
      "Iteration 0, training loss: 335540.788, validation loss: 248.305\n",
      "Iteration 1, training loss: 335537.452, validation loss: 248.305\n",
      "Converged after -1 iterations.\n",
      "Done. Best validation loss 248.3048742332842\n",
      "New best configuration: (1, 0.13131431612601308, 1, 25)\n",
      "------------------------------\n",
      "Training configuration (1, 0.13131431612601308, 1, 17).....\n",
      "Iteration 0, training loss: 335971.168, validation loss: 248.315\n",
      "Iteration 1, training loss: 335962.174, validation loss: 248.315\n",
      "Converged after -1 iterations.\n",
      "Done. Best validation loss 248.31541777272264\n",
      "------------------------------\n",
      "Training configuration (1, 0.13131431612601308, 1, 23).....\n",
      "Iteration 0, training loss: 335645.675, validation loss: 248.308\n",
      "Iteration 1, training loss: 336146.359, validation loss: 248.308\n",
      "Converged after -1 iterations.\n",
      "Done. Best validation loss 248.30756318087313\n",
      "------------------------------\n",
      "Training configuration (1, 0.13131431612601308, 0.1, 25).....\n",
      "Iteration 0, training loss: 335540.788, validation loss: 248.305\n",
      "Iteration 1, training loss: 335540.435, validation loss: 248.305\n",
      "Converged after -1 iterations.\n",
      "Done. Best validation loss 248.3048742332842\n",
      "------------------------------\n",
      "Training configuration (1, 0.13131431612601308, 0.1, 17).....\n",
      "Iteration 0, training loss: 335971.168, validation loss: 248.315\n",
      "Iteration 1, training loss: 335968.341, validation loss: 248.315\n",
      "Converged after -1 iterations.\n",
      "Done. Best validation loss 248.31528512245325\n",
      "------------------------------\n",
      "Training configuration (1, 0.13131431612601308, 0.1, 23).....\n",
      "Iteration 0, training loss: 335645.675, validation loss: 248.308\n",
      "Iteration 1, training loss: 335645.503, validation loss: 248.308\n",
      "Converged after -1 iterations.\n",
      "Done. Best validation loss 248.30756318087313\n",
      "------------------------------\n",
      "Training configuration (1, 0.13131431612601308, 0.01, 25).....\n",
      "Iteration 0, training loss: 335540.788, validation loss: 248.305\n",
      "Iteration 1, training loss: 335540.742, validation loss: 248.305\n",
      "Converged after -1 iterations.\n",
      "Done. Best validation loss 248.3048742332842\n",
      "------------------------------\n",
      "Training configuration (1, 0.13131431612601308, 0.01, 17).....\n",
      "Iteration 0, training loss: 335971.168, validation loss: 248.315\n",
      "Iteration 1, training loss: 335970.801, validation loss: 248.315\n",
      "Converged after -1 iterations.\n",
      "Done. Best validation loss 248.31541777272264\n",
      "------------------------------\n",
      "Training configuration (1, 0.13131431612601308, 0.01, 23).....\n",
      "Iteration 0, training loss: 335645.675, validation loss: 248.308\n",
      "Iteration 1, training loss: 335645.004, validation loss: 248.308\n",
      "Converged after -1 iterations.\n",
      "Done. Best validation loss 248.30756318087313\n",
      "------------------------------\n",
      "Training configuration (1, 0.4631372284767108, 1, 25).....\n",
      "Iteration 0, training loss: 335540.788, validation loss: 248.305\n",
      "Iteration 1, training loss: 335822.111, validation loss: 248.305\n",
      "Converged after -1 iterations.\n",
      "Done. Best validation loss 248.3048742332842\n",
      "------------------------------\n",
      "Training configuration (1, 0.4631372284767108, 1, 17).....\n",
      "Iteration 0, training loss: 335971.168, validation loss: 248.315\n",
      "Iteration 1, training loss: 335951.008, validation loss: 248.28\n",
      "Converged after -1 iterations.\n",
      "Done. Best validation loss 248.2796968920594\n",
      "New best configuration: (1, 0.4631372284767108, 1, 17)\n",
      "------------------------------\n",
      "Training configuration (1, 0.4631372284767108, 1, 23).....\n",
      "Iteration 0, training loss: 335645.675, validation loss: 248.308\n",
      "Iteration 1, training loss: 335638.997, validation loss: 248.308\n",
      "Converged after -1 iterations.\n",
      "Done. Best validation loss 248.30756318087313\n",
      "------------------------------\n",
      "Training configuration (1, 0.4631372284767108, 0.1, 25).....\n",
      "Iteration 0, training loss: 335540.788, validation loss: 248.305\n",
      "Iteration 1, training loss: 335524.116, validation loss: 248.305\n",
      "Converged after -1 iterations.\n",
      "Done. Best validation loss 248.3048742332842\n",
      "------------------------------\n",
      "Training configuration (1, 0.4631372284767108, 0.1, 17).....\n",
      "Iteration 0, training loss: 335971.168, validation loss: 248.315\n",
      "Iteration 1, training loss: 335970.17, validation loss: 248.315\n",
      "Converged after -1 iterations.\n",
      "Done. Best validation loss 248.31541777272264\n",
      "------------------------------\n",
      "Training configuration (1, 0.4631372284767108, 0.1, 23).....\n",
      "Iteration 0, training loss: 335645.675, validation loss: 248.308\n",
      "Iteration 1, training loss: 335645.227, validation loss: 248.308\n",
      "Converged after -1 iterations.\n",
      "Done. Best validation loss 248.30756318087313\n",
      "------------------------------\n",
      "Training configuration (1, 0.4631372284767108, 0.01, 25).....\n",
      "Iteration 0, training loss: 335540.788, validation loss: 248.305\n",
      "Iteration 1, training loss: 335540.58, validation loss: 248.305\n",
      "Converged after -1 iterations.\n",
      "Done. Best validation loss 248.30487423328415\n",
      "------------------------------\n",
      "Training configuration (1, 0.4631372284767108, 0.01, 17).....\n",
      "Iteration 0, training loss: 335971.168, validation loss: 248.315\n",
      "Iteration 1, training loss: 335965.748, validation loss: 248.298\n",
      "Converged after -1 iterations.\n",
      "Done. Best validation loss 248.29809016019004\n",
      "------------------------------\n",
      "Training configuration (1, 0.4631372284767108, 0.01, 23).....\n",
      "Iteration 0, training loss: 335645.675, validation loss: 248.308\n",
      "Iteration 1, training loss: 335645.657, validation loss: 248.308\n",
      "Converged after -1 iterations.\n",
      "Done. Best validation loss 248.30756318087313\n",
      "------------------------------\n",
      "Training configuration (1, 0.48062038535495055, 1, 25).....\n",
      "Iteration 0, training loss: 335540.788, validation loss: 248.305\n",
      "Iteration 1, training loss: 335536.323, validation loss: 248.305\n",
      "Converged after -1 iterations.\n",
      "Done. Best validation loss 248.30487423328415\n",
      "------------------------------\n",
      "Training configuration (1, 0.48062038535495055, 1, 17).....\n",
      "Iteration 0, training loss: 335971.168, validation loss: 248.315\n",
      "Iteration 1, training loss: 335910.799, validation loss: 248.315\n",
      "Converged after -1 iterations.\n",
      "Done. Best validation loss 248.31541777272264\n",
      "------------------------------\n",
      "Training configuration (1, 0.48062038535495055, 1, 23).....\n",
      "Iteration 0, training loss: 335645.675, validation loss: 248.308\n",
      "Iteration 1, training loss: 338932.47, validation loss: 248.308\n",
      "Converged after -1 iterations.\n",
      "Done. Best validation loss 248.30756318087316\n",
      "------------------------------\n",
      "Training configuration (1, 0.48062038535495055, 0.1, 25).....\n",
      "Iteration 0, training loss: 335540.788, validation loss: 248.305\n",
      "Iteration 1, training loss: 335456.364, validation loss: 248.299\n",
      "Converged after -1 iterations.\n",
      "Done. Best validation loss 248.29937741000563\n",
      "------------------------------\n",
      "Training configuration (1, 0.48062038535495055, 0.1, 17).....\n",
      "Iteration 0, training loss: 335971.168, validation loss: 248.315\n",
      "Iteration 1, training loss: 335936.226, validation loss: 248.332\n",
      "Converged after -1 iterations.\n",
      "Done. Best validation loss 248.31541777272264\n",
      "------------------------------\n",
      "Training configuration (1, 0.48062038535495055, 0.1, 23).....\n",
      "Iteration 0, training loss: 335645.675, validation loss: 248.308\n",
      "Iteration 1, training loss: 335644.47, validation loss: 248.308\n",
      "Converged after -1 iterations.\n",
      "Done. Best validation loss 248.30756318087313\n",
      "------------------------------\n",
      "Training configuration (1, 0.48062038535495055, 0.01, 25).....\n",
      "Iteration 0, training loss: 335540.788, validation loss: 248.305\n",
      "Iteration 1, training loss: 335539.026, validation loss: 248.303\n",
      "Converged after -1 iterations.\n",
      "Done. Best validation loss 248.3025248764823\n",
      "------------------------------\n",
      "Training configuration (1, 0.48062038535495055, 0.01, 17).....\n",
      "Iteration 0, training loss: 335971.168, validation loss: 248.315\n",
      "Iteration 1, training loss: 335971.109, validation loss: 248.315\n",
      "Converged after -1 iterations.\n",
      "Done. Best validation loss 248.31541777272264\n",
      "------------------------------\n",
      "Training configuration (1, 0.48062038535495055, 0.01, 23).....\n",
      "Iteration 0, training loss: 335645.675, validation loss: 248.308\n",
      "Iteration 1, training loss: 335645.067, validation loss: 248.308\n",
      "Converged after -1 iterations.\n",
      "Done. Best validation loss 248.30756318087313\n",
      "------------------------------\n",
      "Training configuration (32, 0.13131431612601308, 1, 25).....\n"
     ]
    },
    {
     "name": "stdout",
     "output_type": "stream",
     "text": [
      "Iteration 0, training loss: 335540.788, validation loss: 248.305\n",
      "Iteration 1, training loss: 335287.036, validation loss: 248.304\n",
      "Converged after -1 iterations.\n",
      "Done. Best validation loss 248.30386499104904\n",
      "------------------------------\n",
      "Training configuration (32, 0.13131431612601308, 1, 17).....\n",
      "Iteration 0, training loss: 335971.168, validation loss: 248.315\n",
      "Iteration 1, training loss: 335623.286, validation loss: 248.305\n",
      "Converged after -1 iterations.\n",
      "Done. Best validation loss 248.30500416234136\n",
      "------------------------------\n",
      "Training configuration (32, 0.13131431612601308, 1, 23).....\n",
      "Iteration 0, training loss: 335645.675, validation loss: 248.308\n",
      "Iteration 1, training loss: 335548.179, validation loss: 248.307\n",
      "Converged after -1 iterations.\n",
      "Done. Best validation loss 248.3071621312745\n",
      "------------------------------\n",
      "Training configuration (32, 0.13131431612601308, 0.1, 25).....\n",
      "Iteration 0, training loss: 335540.788, validation loss: 248.305\n",
      "Iteration 1, training loss: 335517.702, validation loss: 248.303\n",
      "Converged after -1 iterations.\n",
      "Done. Best validation loss 248.30326212229457\n",
      "------------------------------\n",
      "Training configuration (32, 0.13131431612601308, 0.1, 17).....\n",
      "Iteration 0, training loss: 335971.168, validation loss: 248.315\n",
      "Iteration 1, training loss: 335940.721, validation loss: 248.315\n",
      "Converged after -1 iterations.\n",
      "Done. Best validation loss 248.31468162498678\n",
      "------------------------------\n",
      "Training configuration (32, 0.13131431612601308, 0.1, 23).....\n",
      "Iteration 0, training loss: 335645.675, validation loss: 248.308\n",
      "Iteration 1, training loss: 335604.947, validation loss: 248.302\n",
      "Converged after -1 iterations.\n",
      "Done. Best validation loss 248.30164196735618\n",
      "------------------------------\n",
      "Training configuration (32, 0.13131431612601308, 0.01, 25).....\n",
      "Iteration 0, training loss: 335540.788, validation loss: 248.305\n",
      "Iteration 1, training loss: 335536.719, validation loss: 248.305\n",
      "Converged after -1 iterations.\n",
      "Done. Best validation loss 248.30462168716585\n",
      "------------------------------\n",
      "Training configuration (32, 0.13131431612601308, 0.01, 17).....\n",
      "Iteration 0, training loss: 335971.168, validation loss: 248.315\n",
      "Iteration 1, training loss: 335969.763, validation loss: 248.315\n",
      "Converged after -1 iterations.\n",
      "Done. Best validation loss 248.31535354684135\n",
      "------------------------------\n",
      "Training configuration (32, 0.13131431612601308, 0.01, 23).....\n",
      "Iteration 0, training loss: 335645.675, validation loss: 248.308\n",
      "Iteration 1, training loss: 335641.754, validation loss: 248.307\n",
      "Converged after -1 iterations.\n",
      "Done. Best validation loss 248.30749241686968\n",
      "------------------------------\n",
      "Training configuration (32, 0.4631372284767108, 1, 25).....\n",
      "Iteration 0, training loss: 335540.788, validation loss: 248.305\n",
      "Iteration 1, training loss: 335185.203, validation loss: 248.29\n",
      "Converged after -1 iterations.\n",
      "Done. Best validation loss 248.28957538385373\n",
      "------------------------------\n",
      "Training configuration (32, 0.4631372284767108, 1, 17).....\n",
      "Iteration 0, training loss: 335971.168, validation loss: 248.315\n",
      "Iteration 1, training loss: 335798.236, validation loss: 248.246\n",
      "Converged after -1 iterations.\n",
      "Done. Best validation loss 248.2455432659627\n",
      "New best configuration: (32, 0.4631372284767108, 1, 17)\n",
      "------------------------------\n",
      "Training configuration (32, 0.4631372284767108, 1, 23).....\n",
      "Iteration 0, training loss: 335645.675, validation loss: 248.308\n",
      "Iteration 1, training loss: 335344.228, validation loss: 248.288\n",
      "Converged after -1 iterations.\n",
      "Done. Best validation loss 248.28757384451686\n",
      "------------------------------\n",
      "Training configuration (32, 0.4631372284767108, 0.1, 25).....\n",
      "Iteration 0, training loss: 335540.788, validation loss: 248.305\n",
      "Iteration 1, training loss: 335512.238, validation loss: 248.301\n",
      "Converged after -1 iterations.\n",
      "Done. Best validation loss 248.3014264567016\n",
      "------------------------------\n",
      "Training configuration (32, 0.4631372284767108, 0.1, 17).....\n",
      "Iteration 0, training loss: 335971.168, validation loss: 248.315\n",
      "Iteration 1, training loss: 335966.925, validation loss: 248.316\n",
      "Converged after -1 iterations.\n",
      "Done. Best validation loss 248.31541777272264\n",
      "------------------------------\n",
      "Training configuration (32, 0.4631372284767108, 0.1, 23).....\n",
      "Iteration 0, training loss: 335645.675, validation loss: 248.308\n",
      "Iteration 1, training loss: 335616.408, validation loss: 248.298\n",
      "Converged after -1 iterations.\n",
      "Done. Best validation loss 248.29835564410473\n",
      "------------------------------\n",
      "Training configuration (32, 0.4631372284767108, 0.01, 25).....\n",
      "Iteration 0, training loss: 335540.788, validation loss: 248.305\n",
      "Iteration 1, training loss: 335537.149, validation loss: 248.304\n",
      "Converged after -1 iterations.\n",
      "Done. Best validation loss 248.30386667246947\n",
      "------------------------------\n",
      "Training configuration (32, 0.4631372284767108, 0.01, 17).....\n",
      "Iteration 0, training loss: 335971.168, validation loss: 248.315\n",
      "Iteration 1, training loss: 335967.732, validation loss: 248.316\n",
      "Converged after -1 iterations.\n",
      "Done. Best validation loss 248.31541777272264\n",
      "------------------------------\n",
      "Training configuration (32, 0.4631372284767108, 0.01, 23).....\n",
      "Iteration 0, training loss: 335645.675, validation loss: 248.308\n",
      "Iteration 1, training loss: 335642.017, validation loss: 248.307\n",
      "Converged after -1 iterations.\n",
      "Done. Best validation loss 248.30738160520008\n",
      "------------------------------\n",
      "Training configuration (32, 0.48062038535495055, 1, 25).....\n",
      "Iteration 0, training loss: 335540.788, validation loss: 248.305\n",
      "Iteration 1, training loss: 335475.093, validation loss: 248.293\n",
      "Converged after -1 iterations.\n",
      "Done. Best validation loss 248.29330335893096\n",
      "------------------------------\n",
      "Training configuration (32, 0.48062038535495055, 1, 17).....\n",
      "Iteration 0, training loss: 335971.168, validation loss: 248.315\n",
      "Iteration 1, training loss: 335520.934, validation loss: 248.344\n",
      "Converged after -1 iterations.\n",
      "Done. Best validation loss 248.31541777272264\n",
      "------------------------------\n",
      "Training configuration (32, 0.48062038535495055, 1, 23).....\n",
      "Iteration 0, training loss: 335645.675, validation loss: 248.308\n",
      "Iteration 1, training loss: 335367.624, validation loss: 248.308\n",
      "Converged after -1 iterations.\n",
      "Done. Best validation loss 248.30756318087313\n",
      "------------------------------\n",
      "Training configuration (32, 0.48062038535495055, 0.1, 25).....\n",
      "Iteration 0, training loss: 335540.788, validation loss: 248.305\n",
      "Iteration 1, training loss: 335528.009, validation loss: 248.306\n",
      "Converged after -1 iterations.\n",
      "Done. Best validation loss 248.30487423328415\n",
      "------------------------------\n",
      "Training configuration (32, 0.48062038535495055, 0.1, 17).....\n",
      "Iteration 0, training loss: 335971.168, validation loss: 248.315\n",
      "Iteration 1, training loss: 335954.073, validation loss: 248.316\n",
      "Converged after -1 iterations.\n",
      "Done. Best validation loss 248.31541777272264\n",
      "------------------------------\n",
      "Training configuration (32, 0.48062038535495055, 0.1, 23).....\n",
      "Iteration 0, training loss: 335645.675, validation loss: 248.308\n",
      "Iteration 1, training loss: 335641.262, validation loss: 248.308\n",
      "Converged after -1 iterations.\n",
      "Done. Best validation loss 248.30753461211557\n",
      "------------------------------\n",
      "Training configuration (32, 0.48062038535495055, 0.01, 25).....\n",
      "Iteration 0, training loss: 335540.788, validation loss: 248.305\n",
      "Iteration 1, training loss: 335539.443, validation loss: 248.304\n",
      "Converged after -1 iterations.\n",
      "Done. Best validation loss 248.3042387919121\n",
      "------------------------------\n",
      "Training configuration (32, 0.48062038535495055, 0.01, 17).....\n",
      "Iteration 0, training loss: 335971.168, validation loss: 248.315\n",
      "Iteration 1, training loss: 335969.537, validation loss: 248.315\n",
      "Converged after -1 iterations.\n",
      "Done. Best validation loss 248.31502631769925\n",
      "------------------------------\n",
      "Training configuration (32, 0.48062038535495055, 0.01, 23).....\n",
      "Iteration 0, training loss: 335645.675, validation loss: 248.308\n",
      "Iteration 1, training loss: 335644.154, validation loss: 248.308\n",
      "Converged after -1 iterations.\n",
      "Done. Best validation loss 248.30753535553092\n",
      "------------------------------\n",
      "Training configuration (512, 0.13131431612601308, 1, 25).....\n",
      "Iteration 0, training loss: 335540.788, validation loss: 248.305\n"
     ]
    },
    {
     "name": "stdout",
     "output_type": "stream",
     "text": [
      "Iteration 1, training loss: 335392.823, validation loss: 248.287\n",
      "Converged after -1 iterations.\n",
      "Done. Best validation loss 248.28655501332946\n",
      "------------------------------\n",
      "Training configuration (512, 0.13131431612601308, 1, 17).....\n",
      "Iteration 0, training loss: 335971.168, validation loss: 248.315\n",
      "Iteration 1, training loss: 335853.547, validation loss: 248.311\n",
      "Converged after -1 iterations.\n",
      "Done. Best validation loss 248.31053857479418\n",
      "------------------------------\n",
      "Training configuration (512, 0.13131431612601308, 1, 23).....\n",
      "Iteration 0, training loss: 335645.675, validation loss: 248.308\n",
      "Iteration 1, training loss: 335497.901, validation loss: 248.299\n",
      "Converged after -1 iterations.\n",
      "Done. Best validation loss 248.29866994937277\n",
      "------------------------------\n",
      "Training configuration (512, 0.13131431612601308, 0.1, 25).....\n",
      "Iteration 0, training loss: 335540.788, validation loss: 248.305\n",
      "Iteration 1, training loss: 335526.324, validation loss: 248.305\n",
      "Converged after -1 iterations.\n",
      "Done. Best validation loss 248.3045404574764\n",
      "------------------------------\n",
      "Training configuration (512, 0.13131431612601308, 0.1, 17).....\n",
      "Iteration 0, training loss: 335971.168, validation loss: 248.315\n",
      "Iteration 1, training loss: 335959.36, validation loss: 248.315\n",
      "Converged after -1 iterations.\n",
      "Done. Best validation loss 248.31468340593014\n",
      "------------------------------\n",
      "Training configuration (512, 0.13131431612601308, 0.1, 23).....\n",
      "Iteration 0, training loss: 335645.675, validation loss: 248.308\n",
      "Iteration 1, training loss: 335633.745, validation loss: 248.307\n",
      "Converged after -1 iterations.\n",
      "Done. Best validation loss 248.30675283627167\n",
      "------------------------------\n",
      "Training configuration (512, 0.13131431612601308, 0.01, 25).....\n",
      "Iteration 0, training loss: 335540.788, validation loss: 248.305\n",
      "Iteration 1, training loss: 335539.418, validation loss: 248.305\n",
      "Converged after -1 iterations.\n",
      "Done. Best validation loss 248.30476100085278\n",
      "------------------------------\n",
      "Training configuration (512, 0.13131431612601308, 0.01, 17).....\n",
      "Iteration 0, training loss: 335971.168, validation loss: 248.315\n",
      "Iteration 1, training loss: 335970.222, validation loss: 248.315\n",
      "Converged after -1 iterations.\n",
      "Done. Best validation loss 248.31533367938152\n",
      "------------------------------\n",
      "Training configuration (512, 0.13131431612601308, 0.01, 23).....\n",
      "Iteration 0, training loss: 335645.675, validation loss: 248.308\n",
      "Iteration 1, training loss: 335644.403, validation loss: 248.307\n",
      "Converged after -1 iterations.\n",
      "Done. Best validation loss 248.3074367552851\n",
      "------------------------------\n",
      "Training configuration (512, 0.4631372284767108, 1, 25).....\n",
      "Iteration 0, training loss: 335540.788, validation loss: 248.305\n",
      "Iteration 1, training loss: 335395.802, validation loss: 248.288\n",
      "Converged after -1 iterations.\n",
      "Done. Best validation loss 248.28778475689143\n",
      "------------------------------\n",
      "Training configuration (512, 0.4631372284767108, 1, 17).....\n",
      "Iteration 0, training loss: 335971.168, validation loss: 248.315\n",
      "Iteration 1, training loss: 335868.673, validation loss: 248.316\n",
      "Converged after -1 iterations.\n",
      "Done. Best validation loss 248.31541777272264\n",
      "------------------------------\n",
      "Training configuration (512, 0.4631372284767108, 1, 23).....\n",
      "Iteration 0, training loss: 335645.675, validation loss: 248.308\n",
      "Iteration 1, training loss: 335506.817, validation loss: 248.293\n",
      "Converged after -1 iterations.\n",
      "Done. Best validation loss 248.29338698286156\n",
      "------------------------------\n",
      "Training configuration (512, 0.4631372284767108, 0.1, 25).....\n",
      "Iteration 0, training loss: 335540.788, validation loss: 248.305\n",
      "Iteration 1, training loss: 335527.715, validation loss: 248.304\n",
      "Converged after -1 iterations.\n",
      "Done. Best validation loss 248.30425474366712\n",
      "------------------------------\n",
      "Training configuration (512, 0.4631372284767108, 0.1, 17).....\n",
      "Iteration 0, training loss: 335971.168, validation loss: 248.315\n",
      "Iteration 1, training loss: 335959.064, validation loss: 248.315\n",
      "Converged after -1 iterations.\n",
      "Done. Best validation loss 248.31487363542118\n",
      "------------------------------\n",
      "Training configuration (512, 0.4631372284767108, 0.1, 23).....\n",
      "Iteration 0, training loss: 335645.675, validation loss: 248.308\n",
      "Iteration 1, training loss: 335632.523, validation loss: 248.306\n",
      "Converged after -1 iterations.\n",
      "Done. Best validation loss 248.30638600872396\n",
      "------------------------------\n",
      "Training configuration (512, 0.4631372284767108, 0.01, 25).....\n",
      "Iteration 0, training loss: 335540.788, validation loss: 248.305\n",
      "Iteration 1, training loss: 335539.409, validation loss: 248.305\n",
      "Converged after -1 iterations.\n",
      "Done. Best validation loss 248.30467127579738\n",
      "------------------------------\n",
      "Training configuration (512, 0.4631372284767108, 0.01, 17).....\n",
      "Iteration 0, training loss: 335971.168, validation loss: 248.315\n",
      "Iteration 1, training loss: 335970.148, validation loss: 248.315\n",
      "Converged after -1 iterations.\n",
      "Done. Best validation loss 248.3153188618322\n",
      "------------------------------\n",
      "Training configuration (512, 0.4631372284767108, 0.01, 23).....\n",
      "Iteration 0, training loss: 335645.675, validation loss: 248.308\n",
      "Iteration 1, training loss: 335644.423, validation loss: 248.307\n",
      "Converged after -1 iterations.\n",
      "Done. Best validation loss 248.3074674062194\n",
      "------------------------------\n",
      "Training configuration (512, 0.48062038535495055, 1, 25).....\n",
      "Iteration 0, training loss: 335540.788, validation loss: 248.305\n",
      "Iteration 1, training loss: 335395.036, validation loss: 248.288\n",
      "Converged after -1 iterations.\n",
      "Done. Best validation loss 248.28806589872858\n",
      "------------------------------\n",
      "Training configuration (512, 0.48062038535495055, 1, 17).....\n",
      "Iteration 0, training loss: 335971.168, validation loss: 248.315\n",
      "Iteration 1, training loss: 335864.057, validation loss: 248.301\n",
      "Converged after -1 iterations.\n",
      "Done. Best validation loss 248.30094997945687\n",
      "------------------------------\n",
      "Training configuration (512, 0.48062038535495055, 1, 23).....\n",
      "Iteration 0, training loss: 335645.675, validation loss: 248.308\n",
      "Iteration 1, training loss: 335522.618, validation loss: 248.294\n",
      "Converged after -1 iterations.\n",
      "Done. Best validation loss 248.2940459633144\n",
      "------------------------------\n",
      "Training configuration (512, 0.48062038535495055, 0.1, 25).....\n",
      "Iteration 0, training loss: 335540.788, validation loss: 248.305\n",
      "Iteration 1, training loss: 335528.902, validation loss: 248.304\n",
      "Converged after -1 iterations.\n",
      "Done. Best validation loss 248.3038249418986\n",
      "------------------------------\n",
      "Training configuration (512, 0.48062038535495055, 0.1, 17).....\n",
      "Iteration 0, training loss: 335971.168, validation loss: 248.315\n",
      "Iteration 1, training loss: 335960.676, validation loss: 248.315\n",
      "Converged after -1 iterations.\n",
      "Done. Best validation loss 248.31482046892964\n",
      "------------------------------\n",
      "Training configuration (512, 0.48062038535495055, 0.1, 23).....\n",
      "Iteration 0, training loss: 335645.675, validation loss: 248.308\n",
      "Iteration 1, training loss: 335633.285, validation loss: 248.307\n",
      "Converged after -1 iterations.\n",
      "Done. Best validation loss 248.3069990800375\n",
      "------------------------------\n",
      "Training configuration (512, 0.48062038535495055, 0.01, 25).....\n",
      "Iteration 0, training loss: 335540.788, validation loss: 248.305\n",
      "Iteration 1, training loss: 335539.368, validation loss: 248.305\n",
      "Converged after -1 iterations.\n",
      "Done. Best validation loss 248.3047672736056\n",
      "------------------------------\n",
      "Training configuration (512, 0.48062038535495055, 0.01, 17).....\n",
      "Iteration 0, training loss: 335971.168, validation loss: 248.315\n",
      "Iteration 1, training loss: 335970.079, validation loss: 248.315\n",
      "Converged after -1 iterations.\n",
      "Done. Best validation loss 248.31534414912943\n",
      "------------------------------\n",
      "Training configuration (512, 0.48062038535495055, 0.01, 23).....\n",
      "Iteration 0, training loss: 335645.675, validation loss: 248.308\n",
      "Iteration 1, training loss: 335644.591, validation loss: 248.307\n",
      "Converged after -1 iterations.\n",
      "Done. Best validation loss 248.30747842022842\n",
      "------------------------------\n",
      "Training configuration (-1, 0.13131431612601308, 1, 25).....\n",
      "Iteration 0, training loss: 335540.788, validation loss: 248.305\n",
      "Iteration 1, training loss: 328440.261, validation loss: 247.876\n",
      "Converged after -1 iterations.\n",
      "Done. Best validation loss 247.87600747736735\n",
      "New best configuration: (-1, 0.13131431612601308, 1, 25)\n",
      "------------------------------\n",
      "Training configuration (-1, 0.13131431612601308, 1, 17).....\n"
     ]
    },
    {
     "name": "stdout",
     "output_type": "stream",
     "text": [
      "Iteration 0, training loss: 335971.168, validation loss: 248.315\n",
      "Iteration 1, training loss: 330538.428, validation loss: 247.888\n",
      "Converged after -1 iterations.\n",
      "Done. Best validation loss 247.88816370567682\n",
      "------------------------------\n",
      "Training configuration (-1, 0.13131431612601308, 1, 23).....\n",
      "Iteration 0, training loss: 335645.675, validation loss: 248.308\n",
      "Iteration 1, training loss: 328933.464, validation loss: 247.887\n",
      "Converged after -1 iterations.\n",
      "Done. Best validation loss 247.8869694095964\n",
      "------------------------------\n",
      "Training configuration (-1, 0.13131431612601308, 0.1, 25).....\n",
      "Iteration 0, training loss: 335540.788, validation loss: 248.305\n",
      "Iteration 1, training loss: 335039.949, validation loss: 248.276\n",
      "Converged after -1 iterations.\n",
      "Done. Best validation loss 248.27582823663803\n",
      "------------------------------\n",
      "Training configuration (-1, 0.13131431612601308, 0.1, 17).....\n",
      "Iteration 0, training loss: 335971.168, validation loss: 248.315\n",
      "Iteration 1, training loss: 335592.665, validation loss: 248.288\n",
      "Converged after -1 iterations.\n",
      "Done. Best validation loss 248.288443975923\n",
      "------------------------------\n",
      "Training configuration (-1, 0.13131431612601308, 0.1, 23).....\n",
      "Iteration 0, training loss: 335645.675, validation loss: 248.308\n",
      "Iteration 1, training loss: 335173.726, validation loss: 248.279\n",
      "Converged after -1 iterations.\n",
      "Done. Best validation loss 248.27906735305598\n",
      "------------------------------\n",
      "Training configuration (-1, 0.13131431612601308, 0.01, 25).....\n",
      "Iteration 0, training loss: 335540.788, validation loss: 248.305\n",
      "Iteration 1, training loss: 335493.036, validation loss: 248.302\n",
      "Converged after -1 iterations.\n",
      "Done. Best validation loss 248.30214886640124\n",
      "------------------------------\n",
      "Training configuration (-1, 0.13131431612601308, 0.01, 17).....\n",
      "Iteration 0, training loss: 335971.168, validation loss: 248.315\n",
      "Iteration 1, training loss: 335935.162, validation loss: 248.313\n",
      "Converged after -1 iterations.\n",
      "Done. Best validation loss 248.3129058603839\n",
      "------------------------------\n",
      "Training configuration (-1, 0.13131431612601308, 0.01, 23).....\n",
      "Iteration 0, training loss: 335645.675, validation loss: 248.308\n",
      "Iteration 1, training loss: 335600.701, validation loss: 248.305\n",
      "Converged after -1 iterations.\n",
      "Done. Best validation loss 248.3048926963707\n",
      "------------------------------\n",
      "Training configuration (-1, 0.4631372284767108, 1, 25).....\n",
      "Iteration 0, training loss: 335540.788, validation loss: 248.305\n",
      "Iteration 1, training loss: 328538.49, validation loss: 247.879\n",
      "Converged after -1 iterations.\n",
      "Done. Best validation loss 247.87902648099447\n",
      "------------------------------\n",
      "Training configuration (-1, 0.4631372284767108, 1, 17).....\n",
      "Iteration 0, training loss: 335971.168, validation loss: 248.315\n",
      "Iteration 1, training loss: 330610.149, validation loss: 247.892\n",
      "Converged after -1 iterations.\n",
      "Done. Best validation loss 247.89196100373866\n",
      "------------------------------\n",
      "Training configuration (-1, 0.4631372284767108, 1, 23).....\n",
      "Iteration 0, training loss: 335645.675, validation loss: 248.308\n",
      "Iteration 1, training loss: 329025.411, validation loss: 247.89\n",
      "Converged after -1 iterations.\n",
      "Done. Best validation loss 247.89023699165145\n",
      "------------------------------\n",
      "Training configuration (-1, 0.4631372284767108, 0.1, 25).....\n",
      "Iteration 0, training loss: 335540.788, validation loss: 248.305\n",
      "Iteration 1, training loss: 335045.67, validation loss: 248.276\n",
      "Converged after -1 iterations.\n",
      "Done. Best validation loss 248.27604804177213\n",
      "------------------------------\n",
      "Training configuration (-1, 0.4631372284767108, 0.1, 17).....\n",
      "Iteration 0, training loss: 335971.168, validation loss: 248.315\n",
      "Iteration 1, training loss: 335596.785, validation loss: 248.289\n",
      "Converged after -1 iterations.\n",
      "Done. Best validation loss 248.288641919839\n",
      "------------------------------\n",
      "Training configuration (-1, 0.4631372284767108, 0.1, 23).....\n",
      "Iteration 0, training loss: 335645.675, validation loss: 248.308\n",
      "Iteration 1, training loss: 335179.059, validation loss: 248.279\n",
      "Converged after -1 iterations.\n",
      "Done. Best validation loss 248.27928536127104\n",
      "------------------------------\n",
      "Training configuration (-1, 0.4631372284767108, 0.01, 25).....\n",
      "Iteration 0, training loss: 335540.788, validation loss: 248.305\n",
      "Iteration 1, training loss: 335493.559, validation loss: 248.302\n",
      "Converged after -1 iterations.\n",
      "Done. Best validation loss 248.30216859373886\n",
      "------------------------------\n",
      "Training configuration (-1, 0.4631372284767108, 0.01, 17).....\n",
      "Iteration 0, training loss: 335971.168, validation loss: 248.315\n",
      "Iteration 1, training loss: 335935.537, validation loss: 248.313\n",
      "Converged after -1 iterations.\n",
      "Done. Best validation loss 248.31292311223604\n",
      "------------------------------\n",
      "Training configuration (-1, 0.4631372284767108, 0.01, 23).....\n",
      "Iteration 0, training loss: 335645.675, validation loss: 248.308\n",
      "Iteration 1, training loss: 335601.188, validation loss: 248.305\n",
      "Converged after -1 iterations.\n",
      "Done. Best validation loss 248.30491209704095\n",
      "------------------------------\n",
      "Training configuration (-1, 0.48062038535495055, 1, 25).....\n",
      "Iteration 0, training loss: 335540.788, validation loss: 248.305\n",
      "Iteration 1, training loss: 328543.654, validation loss: 247.879\n",
      "Converged after -1 iterations.\n",
      "Done. Best validation loss 247.87918631664283\n",
      "------------------------------\n",
      "Training configuration (-1, 0.48062038535495055, 1, 17).....\n",
      "Iteration 0, training loss: 335971.168, validation loss: 248.315\n",
      "Iteration 1, training loss: 330613.92, validation loss: 247.892\n",
      "Converged after -1 iterations.\n",
      "Done. Best validation loss 247.89216095652813\n",
      "------------------------------\n",
      "Training configuration (-1, 0.48062038535495055, 1, 23).....\n",
      "Iteration 0, training loss: 335645.675, validation loss: 248.308\n",
      "Iteration 1, training loss: 329030.245, validation loss: 247.89\n",
      "Converged after -1 iterations.\n",
      "Done. Best validation loss 247.89040954728142\n",
      "------------------------------\n",
      "Training configuration (-1, 0.48062038535495055, 0.1, 25).....\n",
      "Iteration 0, training loss: 335540.788, validation loss: 248.305\n",
      "Iteration 1, training loss: 335045.971, validation loss: 248.276\n",
      "Converged after -1 iterations.\n",
      "Done. Best validation loss 248.27605961967967\n",
      "------------------------------\n",
      "Training configuration (-1, 0.48062038535495055, 0.1, 17).....\n",
      "Iteration 0, training loss: 335971.168, validation loss: 248.315\n",
      "Iteration 1, training loss: 335597.002, validation loss: 248.289\n",
      "Converged after -1 iterations.\n",
      "Done. Best validation loss 248.2886523440624\n",
      "------------------------------\n",
      "Training configuration (-1, 0.48062038535495055, 0.1, 23).....\n",
      "Iteration 0, training loss: 335645.675, validation loss: 248.308\n",
      "Iteration 1, training loss: 335179.34, validation loss: 248.279\n",
      "Converged after -1 iterations.\n",
      "Done. Best validation loss 248.2792968432734\n",
      "------------------------------\n",
      "Training configuration (-1, 0.48062038535495055, 0.01, 25).....\n",
      "Iteration 0, training loss: 335540.788, validation loss: 248.305\n",
      "Iteration 1, training loss: 335493.586, validation loss: 248.302\n",
      "Converged after -1 iterations.\n",
      "Done. Best validation loss 248.30216963309726\n",
      "------------------------------\n",
      "Training configuration (-1, 0.48062038535495055, 0.01, 17).....\n",
      "Iteration 0, training loss: 335971.168, validation loss: 248.315\n",
      "Iteration 1, training loss: 335935.557, validation loss: 248.313\n",
      "Converged after -1 iterations.\n",
      "Done. Best validation loss 248.31292402115216\n",
      "------------------------------\n",
      "Training configuration (-1, 0.48062038535495055, 0.01, 23).....\n",
      "Iteration 0, training loss: 335645.675, validation loss: 248.308\n",
      "Iteration 1, training loss: 335601.214, validation loss: 248.305\n",
      "Converged after -1 iterations.\n",
      "Done. Best validation loss 248.3049131191777\n",
      "------------------------------\n",
      "Best configuration is: (-1, 0.13131431612601308, 1, 25)\n"
     ]
    }
   ],
   "source": [
    "best_configuration = parameter_search(M_train, val_idx, val_values)"
   ]
  },
  {
   "cell_type": "markdown",
   "metadata": {},
   "source": [
    "#### Output the best hyperparameter optimization"
   ]
  },
  {
   "cell_type": "code",
   "execution_count": 34,
   "metadata": {},
   "outputs": [
    {
     "name": "stdout",
     "output_type": "stream",
     "text": [
      "Best batch size:  -1\n",
      "Best lambda:  0.13131431612601308\n",
      "Best learning rate:  1\n",
      "Best latent dimension:  25\n"
     ]
    }
   ],
   "source": [
    "print(\"Best batch size: \", best_configuration[0])\n",
    "print(\"Best lambda: \", best_configuration[1] )\n",
    "print(\"Best learning rate: \", best_configuration[2] )\n",
    "print(\"Best latent dimension: \", best_configuration[3])"
   ]
  },
  {
   "cell_type": "code",
   "execution_count": 36,
   "metadata": {},
   "outputs": [
    {
     "name": "stdout",
     "output_type": "stream",
     "text": [
      "Iteration 0, training loss: 335540.788, validation loss: 248.305\n",
      "Iteration 1, training loss: 328440.261, validation loss: 247.876\n",
      "Iteration 2, training loss: 305760.911, validation loss: 246.783\n",
      "Iteration 3, training loss: 279976.787, validation loss: 251.217\n",
      "Iteration 4, training loss: 264902.744, validation loss: 257.435\n",
      "Iteration 5, training loss: 1232262.262, validation loss: 11920.758\n",
      "Converged after -1 iterations.\n"
     ]
    }
   ],
   "source": [
    "#Find the optimal P and Q for gradient descent returned by hyperparameter optimization\n",
    "#For fast execution we set max_steps = 5, log_every = 1, eval_every = 1\n",
    "best_Q_gr, best_P_gr, val_l_gr, tr_l_gr, conv_gr = latent_factor_gradient_descent(M_shifted, nonzero_indices, \n",
    "                                                                                   k=best_configuration[3], val_idx=val_idx,\n",
    "                                                                                   val_values=val_values_shifted, \n",
    "                                                                                   reg_lambda=best_configuration[1], learning_rate=best_configuration[2],\n",
    "                                                                                   init='svd', batch_size=best_configuration[0],\n",
    "                                                                                   max_steps=5, log_every=1, \n",
    "                                                                                   eval_every=1)"
   ]
  },
  {
   "cell_type": "markdown",
   "metadata": {},
   "source": [
    "## 5. Comparison of gradient descent and alternating optimization"
   ]
  },
  {
   "cell_type": "markdown",
   "metadata": {},
   "source": [
    "After training the latent factor model with both alternating optimization and gradient descent, we now compare their results on the training, validation, and test set."
   ]
  },
  {
   "cell_type": "code",
   "execution_count": 38,
   "metadata": {},
   "outputs": [
    {
     "name": "stdout",
     "output_type": "stream",
     "text": [
      "Training RMSE of best gradient descent model:  1.0358945947517457\n",
      "Validation RMSE of best gradient descent model:  1.1108173848151612\n",
      "Test RMSE of best gradient descent model:  1.1601830106877822\n"
     ]
    }
   ],
   "source": [
    "# Comparison for the best gradient descent model\n",
    "best_M_gr = best_Q_gr.dot(best_P_gr) + user_means\n",
    "tuple_x = sp.find(M_train)\n",
    "\n",
    "training_rmse_gr = np.sqrt((1/len(tuple_x[0])) * np.sum(np.square(tuple_x[2] - best_M_gr[tuple_x[0],tuple_x[1]])))\n",
    "validation_rmse_gr = np.sqrt((1/len(val_values_shifted)) * np.sum(np.square(M[val_idx[0],val_idx[1]] - best_M_gr[val_idx[0],val_idx[1]])))\n",
    "test_rmse_gr = np.sqrt((1/len(val_values_shifted)) * np.sum(np.square(M[test_idx[0],test_idx[1]] - best_M_gr[test_idx[0],test_idx[1]])))\n",
    "\n",
    "print(\"Training RMSE of best gradient descent model: \", training_rmse_gr)   \n",
    "print(\"Validation RMSE of best gradient descent model: \", validation_rmse_gr)   \n",
    "print(\"Test RMSE of best gradient descent model: \", test_rmse_gr)"
   ]
  },
  {
   "cell_type": "code",
   "execution_count": 41,
   "metadata": {},
   "outputs": [
    {
     "name": "stdout",
     "output_type": "stream",
     "text": [
      "Training RMSE of best alternating optimization model:  0.1436498700683662\n",
      "Validation RMSE of best alternating optimization model:  1.1157009460563472\n",
      "Test RMSE of best alternating optimization model:  1.182151023807453\n"
     ]
    }
   ],
   "source": [
    "# Comparison for the best alternating optimization model\n",
    "best_Q_al = Q_a\n",
    "best_P_al = P_a\n",
    "best_M_al = best_Q_al.dot(best_P_al) + user_means\n",
    "\n",
    "training_rmse = np.sqrt((1/len(tuple_x[0])) * np.sum(np.square(tuple_x[2] - best_M_al[tuple_x[0],tuple_x[1]])))\n",
    "validation_rmse = np.sqrt((1/len(val_values_shifted)) * np.sum(np.square(M[val_idx[0],val_idx[1]] - best_M_al[val_idx[0],val_idx[1]])))\n",
    "test_rmse = np.sqrt((1/len(val_values_shifted)) * np.sum(np.square(M[test_idx[0],test_idx[1]] - best_M_al[test_idx[0],test_idx[1]])))\n",
    "\n",
    "print(\"Training RMSE of best alternating optimization model: \", training_rmse)   \n",
    "print(\"Validation RMSE of best alternating optimization model: \", validation_rmse)   \n",
    "print(\"Test RMSE of best alternating optimization model: \", test_rmse)"
   ]
  },
  {
   "cell_type": "markdown",
   "metadata": {},
   "source": [
    "## Predicted ratings vs. ground truth ratings (Alternating optimization)"
   ]
  },
  {
   "cell_type": "markdown",
   "metadata": {},
   "source": [
    "### Training data\n",
    "\n",
    "\n",
    "For the ratings 3 and 4, means look very accurate. Predictions for ratings 1 and 5 are shifted by about 0.5 w.r.t to the ground truth."
   ]
  },
  {
   "cell_type": "code",
   "execution_count": 95,
   "metadata": {},
   "outputs": [
    {
     "data": {
      "image/png": "[encoded data removed]",
      "text/plain": [
       "<matplotlib.figure.Figure at 0x208309d4080>"
      ]
     },
     "metadata": {},
     "output_type": "display_data"
    }
   ],
   "source": [
    "M_pred = Q_a.dot(P_a) + user_means # retrieve original values by adding the user mean\n",
    "tuple_x = sp.find(M_train)\n",
    "plt.scatter(x=tuple_x[2], y=np.array(M_pred[tuple_x[0],tuple_x[1]]), alpha=0.003)\n",
    "\n",
    "plt.title('Training ratings vs. predictions by alternating optimization model')\n",
    "plt.xlabel('Ground truth training rating')\n",
    "plt.ylabel('Predicted rating')\n",
    "\n",
    "plt.show()"
   ]
  },
  {
   "cell_type": "markdown",
   "metadata": {},
   "source": [
    "## Predicted ratings vs. ground truth ratings (Gradient descent)"
   ]
  },
  {
   "cell_type": "markdown",
   "metadata": {},
   "source": [
    "### Training data"
   ]
  },
  {
   "cell_type": "code",
   "execution_count": 102,
   "metadata": {},
   "outputs": [
    {
     "data": {
      "image/png": "[encoded data removed]",
      "text/plain": [
       "<matplotlib.figure.Figure at 0x2082e1f79b0>"
      ]
     },
     "metadata": {},
     "output_type": "display_data"
    }
   ],
   "source": [
    "M_pred = best_Q_gr.dot(best_P_gr) + user_means # retrieve original values by adding the user mean\n",
    "tuple_x = sp.find(M_train)\n",
    "plt.scatter(x=tuple_x[2], y=np.array(M_pred[tuple_x[0],tuple_x[1]]), alpha=0.01)\n",
    "\n",
    "plt.title('Training ratings vs. predictions by gradient descent model')\n",
    "plt.xlabel('Ground truth training rating')\n",
    "plt.ylabel('Predicted rating')\n",
    "\n",
    "plt.show()"
   ]
  },
  {
   "cell_type": "markdown",
   "metadata": {},
   "source": [
    "### Test data"
   ]
  },
  {
   "cell_type": "code",
   "execution_count": 105,
   "metadata": {},
   "outputs": [
    {
     "data": {
      "image/png": "[encoded data removed]",
      "text/plain": [
       "<matplotlib.figure.Figure at 0x2082d79e358>"
      ]
     },
     "metadata": {},
     "output_type": "display_data"
    }
   ],
   "source": [
    "M_pred = best_Q_gr.dot(best_P_gr) + user_means # retrieve original values by adding the user mean\n",
    "\n",
    "plt.scatter(x=test_values, y=np.array(M_pred[test_idx[0], test_idx[1]]), alpha=0.7)\n",
    "plt.title('Test ratings vs. predictions by gradient descent model')\n",
    "plt.xlabel('Ground truth test rating')\n",
    "plt.ylabel('Predicted rating')\n",
    "\n",
    "plt.show()"
   ]
  }
 ],
 "metadata": {
  "kernelspec": {
   "display_name": "Python 3",
   "language": "python",
   "name": "python3"
  },
  "language_info": {
   "codemirror_mode": {
    "name": "ipython",
    "version": 3
   },
   "file_extension": ".py",
   "mimetype": "text/x-python",
   "name": "python",
   "nbconvert_exporter": "python",
   "pygments_lexer": "ipython3",
   "version": "3.6.1"
  }
 },
 "nbformat": 4,
 "nbformat_minor": 2
}
