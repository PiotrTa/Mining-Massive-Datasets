{
  "nbformat": 4,
  "nbformat_minor": 0,
  "metadata": {
    "colab": {
      "name": "task_01_duplicate_detection.ipynb",
      "version": "0.3.2",
      "views": {},
      "default_view": {},
      "provenance": [],
      "collapsed_sections": []
    },
    "kernelspec": {
      "display_name": "Python [default]",
      "language": "python",
      "name": "python3"
    },
    "accelerator": "GPU"
  },
  "cells": [
    {
      "metadata": {
        "id": "5Eb0J64Ojfh9",
        "colab_type": "text"
      },
      "cell_type": "markdown",
      "source": [
        "## Locality-sensitive hashing (LSH) algorithm\n",
        "\n",
        "Formally, LSH is an algorithm that finds approximate or exact duplicates in high dimensional spaces (e.g. images, documents, audio). The main idea of LSH is to use a group of functions to conduct similarity preserving hashing into \"buckets\". Using this approach, the nearest neighbours will land in the same bucket with high probability, and the data points that are distant from each other will very likely be hashed into different buckets. It is worth noting the difference to the classical hashing functions, which try to avoid collisions.\n",
        "\n",
        "The general framework consists of the following steps:\n",
        "1.   Feature extraction/dimensionality reduction (e.g. random hyperplanes technique with cosine distance (implemented below))\n",
        "2.   AND/OR construction to report duplicate candidates\n",
        "3.   Refinement - calculation of exact distance between candidates\n",
        "\n",
        "For details, you can take a look at the implementation.\n",
        "\n",
        "Using this method we ensure **correctness, but not completeness.** This means that the found duplicates are indeed duplicates (due to refinement step), but it is probable that we haven't found all of them. In big data, the success of an algorithm is ofter measured by its runtime. Omitting pairwise similarity computation, we reduce the runtime from exponential to linear w.r.t the number of data points.\n",
        "\n",
        "\n",
        "Some of the exciting large scale use cases of LSH:\n",
        "*   **Uber:** To detect fraudulent drivers, similar trips are detected based on their spatial properties. Switching from N^2 method to the LSH, the computation time decreased from 55 hours to just 4 hours.\n",
        "*   **Google:** VisualRank - Google's image search technology uses LSH to find similar images at scale.\n",
        "*   **Genome-wide association study:** LSH is used for finding similar gene expressions in genome databases\n",
        "[https://eng.uber.com/lsh/]"
      ]
    },
    {
      "metadata": {
        "id": "6gay_mu9KK4G",
        "colab_type": "text"
      },
      "cell_type": "markdown",
      "source": [
        "## Duplicate reviews detection in Yelp dataset\n",
        "\n",
        "Our goal is to identify duplicate reviews in Yelp dataset.\n",
        "\n",
        "![alt text](https://is1-ssl.mzstatic.com/image/thumb/Purple118/v4/63/d7/f9/63d7f93a-bc7d-1388-48ab-fa4016ed4830/AppIcon-1x_U007emarketing-0-0-GLES2_U002c0-512MB-sRGB-0-0-0-85-220-0-0-0-6.png/246x0w.jpg)</br>\n",
        "It could be useful to detect spam or very similar reviews written for many restarants. For this task, we are working with the reviews submitted to the restaurants in Las Vegas.\n",
        "\n",
        "The data includes:\n",
        "* The preprocessed (sparse) data matrix: [bow_subset.npz](https://syncandshare.lrz.de/dl/fiUuDugamX2JCH33hkxYXgdF)\n",
        "* The words in the vocabulary: [top_25k_words.npy](https://syncandshare.lrz.de/dl/fiMX6taWPMEQ9aaznq4oadyq)\n",
        "* Orginal raw data: [reviews_subset.json](https://syncandshare.lrz.de/dl/fiLLqkiVLXGQPnrj7UvLtBbN)\n",
        "\n",
        "Implementation based on the programming task in the course Mining Massive Datasets (Year: 2018) at the Technical University of Munich "
      ]
    },
    {
      "metadata": {
        "id": "x7FrTswlOKhc",
        "colab_type": "text"
      },
      "cell_type": "markdown",
      "source": [
        "### Import libraries"
      ]
    },
    {
      "metadata": {
        "id": "O9hWJb7IjfiB",
        "colab_type": "code",
        "colab": {
          "autoexec": {
            "startup": false,
            "wait_interval": 0
          }
        }
      },
      "cell_type": "code",
      "source": [
        "import numpy as np\n",
        "import scipy.sparse as sp\n",
        "import re\n",
        "import json\n",
        "import time\n",
        "import cupy\n",
        "\n",
        "from scipy.sparse import linalg as spl\n",
        "from collections import defaultdict\n",
        "from IPython.display import Markdown, display\n",
        "\n",
        "import matplotlib.pyplot as plt\n",
        "%matplotlib inline"
      ],
      "execution_count": 0,
      "outputs": []
    },
    {
      "metadata": {
        "id": "SPmaD-CHjfiO",
        "colab_type": "text"
      },
      "cell_type": "markdown",
      "source": [
        "### Loading data"
      ]
    },
    {
      "metadata": {
        "id": "z4vu_gaFjfiT",
        "colab_type": "code",
        "colab": {
          "autoexec": {
            "startup": false,
            "wait_interval": 0
          }
        }
      },
      "cell_type": "code",
      "source": [
        "words = np.load('top_25k_words.npy')\n",
        "bow_subset = sp.load_npz('bow_subset.npz')\n",
        "N = bow_subset.shape[0]\n",
        "\n",
        "with open('reviews_subset.json' , 'r') as f:\n",
        "    reviews = json.load(f)"
      ],
      "execution_count": 0,
      "outputs": []
    },
    {
      "metadata": {
        "id": "IM9cK2zZjfia",
        "colab_type": "text"
      },
      "cell_type": "markdown",
      "source": [
        "The shape of the \"bow-subset\" data matrix should be $100K \\times 25K$. There are $100K$ reviews, and each review is represented as bag-of-words vector of size $25K$. We can see also which words the dictionary consists of. At the position of a word, there is a number of occurences of the word in a given review."
      ]
    },
    {
      "metadata": {
        "id": "Lu3Rehw-jfic",
        "colab_type": "code",
        "colab": {
          "autoexec": {
            "startup": false,
            "wait_interval": 0
          },
          "base_uri": "https://localhost:8080/",
          "height": 52
        },
        "outputId": "dcd8ef91-f027-4e62-90e9-40c789c7905d",
        "executionInfo": {
          "status": "ok",
          "timestamp": 1525002600922,
          "user_tz": -120,
          "elapsed": 554,
          "user": {
            "displayName": "Piotr Tatarczyk",
            "photoUrl": "https://lh3.googleusercontent.com/a/default-user=s128",
            "userId": "105851496253926425076"
          }
        }
      },
      "cell_type": "code",
      "source": [
        "print(\"The shape of the data matrix: \", bow_subset.shape)\n",
        "print(\"The first word from the bag of words:\", words[0])"
      ],
      "execution_count": 151,
      "outputs": [
        {
          "output_type": "stream",
          "text": [
            "The dimansionality of the data matrix:  (100000, 25000)\n",
            "The first word from the bag of words: food\n"
          ],
          "name": "stdout"
        }
      ]
    },
    {
      "metadata": {
        "id": "vtyyFJlpjfi1",
        "colab_type": "text"
      },
      "cell_type": "markdown",
      "source": [
        "### Exemplary review from the raw dataset:"
      ]
    },
    {
      "metadata": {
        "id": "_HaVf-8ojfi4",
        "colab_type": "code",
        "colab": {
          "autoexec": {
            "startup": false,
            "wait_interval": 0
          },
          "base_uri": "https://localhost:8080/",
          "height": 179
        },
        "outputId": "accc241d-8582-4a2d-9310-dbe8394d62be",
        "executionInfo": {
          "status": "ok",
          "timestamp": 1525002710785,
          "user_tz": -120,
          "elapsed": 538,
          "user": {
            "displayName": "Piotr Tatarczyk",
            "photoUrl": "https://lh3.googleusercontent.com/a/default-user=s128",
            "userId": "105851496253926425076"
          }
        }
      },
      "cell_type": "code",
      "source": [
        "reviews[0]"
      ],
      "execution_count": 152,
      "outputs": [
        {
          "output_type": "execute_result",
          "data": {
            "text/plain": [
              "{'biz': {'categories': ['Restaurants', 'Steakhouses'],\n",
              "  'city': 'Las Vegas',\n",
              "  'name': \"Gallagher's Steakhouse\"},\n",
              " 'business_id': 'nnDLapJk1z2NJE0-XzwMlQ',\n",
              " 'review_id': '0Lx-agcwqjNhS4JtCVqkHQ',\n",
              " 'stars': 5,\n",
              " 'text': \"The surf and turf here was one of the best I've had.\\n\\nFilet mignon and lobster tail was very good.  i generally dont think the food in Vegas is great, but after being dissappointed on many occasions, I was pleasantly surprised with the quality of our meal.  Thanks to the Taste, i was lured to this restaurant only to find that it is a somehat hidden jewel in New York New York close to the sometimes obnoxious piana bar time square.  \\n\\nThe side of green beans were delish and the potatos are just meh.\\n\\nFor desert they  served an extremely delicious lemon pudding which taste more tart than pudding....it was fabulous.\\n\\nI think Gallaghers is good for couples, groups, and even kids.\",\n",
              " 'user_id': 'M63uPVZtCv7ReY2RgJRmOw'}"
            ]
          },
          "metadata": {
            "tags": []
          },
          "execution_count": 152
        }
      ]
    },
    {
      "metadata": {
        "id": "XK5WA3W-jfjO",
        "colab_type": "text"
      },
      "cell_type": "markdown",
      "source": [
        "## Implementaion\n",
        "\n",
        "The main task is to implement two functions that:\n",
        "1.   Compute the cosine distance between two rows of a sparse matrix\n",
        "2.   Conduct locality sensitive hashing\n",
        "\n",
        "The LSH function will generate duplicate candidates based on $b$ bands and $r$ rows per band. Subsequently, it will compute the exact cosine distance between candidates and report the duplicates with cosine distance $<d$\n",
        "\n"
      ]
    },
    {
      "metadata": {
        "id": "AOKx1p15jfjR",
        "colab_type": "text"
      },
      "cell_type": "markdown",
      "source": [
        "### 1. The cosine distance between two sparse vectors using scipy.sparse.\n",
        "\n",
        "<b>Parameters</b>:<br/>\n",
        "\n",
        "<i>X</i> :  sp.spmatrix, shape [N, K] (Sparse data matrix)<br/>\n",
        "<i>i</i> :  int (Index of the first row) <br/>\n",
        "<i>j</i> :  int (Index of the second row) <br/>\n",
        "\n",
        "<b>Return</b>: <br/> \n",
        "<i>d</i> :  float (Cosine distance between the two rows of the sparse matrix)\n"
      ]
    },
    {
      "metadata": {
        "id": "zQLVRki8jfjT",
        "colab_type": "code",
        "colab": {
          "autoexec": {
            "startup": false,
            "wait_interval": 0
          }
        }
      },
      "cell_type": "code",
      "source": [
        "def cosine_distance(X, i, j):\n",
        "\n",
        "    i_norm = spl.norm(X[i])\n",
        "    j_norm = spl.norm(X[j])\n",
        "    ij_dot = X[i].dot(X[j].T)[0, 0]\n",
        "\n",
        "    return 1-ij_dot/(i_norm*j_norm)"
      ],
      "execution_count": 0,
      "outputs": []
    },
    {
      "metadata": {
        "id": "J1930gldVqac",
        "colab_type": "text"
      },
      "cell_type": "markdown",
      "source": [
        "### 2. Locality sensitive hashing\n",
        "\n",
        "<b>Parameters</b>:<br/>\n",
        "\n",
        "<i>X</i> :  sp.spmatrix, shape [N, K] (Sparse data matrix)<br/>\n",
        "<i>b</i> :  int (Number of bands) <br/>\n",
        "<i>r</i> :  int (Number of rows per band) <br/>\n",
        "\n",
        "<b>Return</b>: <br/> \n",
        "<i>duplicates</i> :  {(ID1, ID2, d_{12}), ..., (IDX, IDY, d_{xy})}. A set of tuples containing: (ID of the 1. review), (ID of the 2. review), (The cosine distance between them)<br/>\n",
        "\n",
        "<i>n_candidates</i> : int (Number of candidate pairs)"
      ]
    },
    {
      "metadata": {
        "id": "xLthc6XMWSiV",
        "colab_type": "text"
      },
      "cell_type": "markdown",
      "source": [
        "## CPU Version with Numpy"
      ]
    },
    {
      "metadata": {
        "id": "z0IEz8g2jfja",
        "colab_type": "code",
        "colab": {
          "autoexec": {
            "startup": false,
            "wait_interval": 0
          }
        }
      },
      "cell_type": "code",
      "source": [
        "def LSH(X, b=8, r=32, d=0.3):\n",
        "\n",
        "    np.random.seed(158)\n",
        "    N, D = X.shape\n",
        "    \n",
        "    # Generate b*r x N matrix holding vectors for random projections in each row\n",
        "    projection_vectors = np.random.normal(0.0, 1.0, (D, b*r))\n",
        "    \n",
        "    # conduct random projections\n",
        "    random_projections = X.dot(projection_vectors)\n",
        "    random_projections = np.reshape(random_projections, (N, b, r))\n",
        "    random_projections = np.reshape(random_projections, (N, b, r))\n",
        "    random_projections = random_projections >= 0\n",
        "    \n",
        "    # hash each band of random projections\n",
        "    vals = 2**np.repeat([np.repeat([np.arange(r)], b, axis=0)], N, axis=0)\n",
        "    hashed_values = np.multiply(random_projections, vals)\n",
        "    hashed_values = np.sum(hashed_values, axis=2)\n",
        "\n",
        "    \n",
        "    # find candidates\n",
        "    candidates = []\n",
        "    for i in range(b):\n",
        "        un_values, counts = np.unique(hashed_values[:, i], return_counts=True) # get unique integers and their count\n",
        "        non_unique_values = un_values[counts > 1] # identify integers which appear more than once\n",
        "        for val in non_unique_values: # store duplicate integers as candidates\n",
        "            candidates.append(np.where(hashed_values[:, i] == val)[0])\n",
        "    n_candidates = len(candidates)\n",
        "    \n",
        "    # get cosine distance for every candidate\n",
        "    dist = [cosine_distance(X, cand[0], cand[1]) for cand in candidates] # get the distance for all candidates\n",
        "    \n",
        "    # get duplicates\n",
        "    duplicates = set((candidates[i][0], candidates[i][1], dist[i]) for i in range(len(dist)) if dist[i] <= d ) \n",
        "    \n",
        "    return duplicates, n_candidates"
      ],
      "execution_count": 0,
      "outputs": []
    },
    {
      "metadata": {
        "id": "1hyX6fEMWD11",
        "colab_type": "text"
      },
      "cell_type": "markdown",
      "source": [
        "## GPU Version with CuPy #\n",
        "This is a naive implementation with the CuPy library in an attempt to accelerate the computations even further. Unfortunately, the computation delivers unstable results. More on the topic: http://gamma.cs.unc.edu/KNN/gpuknn.pdf [Fast GPU-based Locality Sensitive Hashing for K-Nearest Neighbor Computation]"
      ]
    },
    {
      "metadata": {
        "id": "h_l1PENVMvsK",
        "colab_type": "code",
        "colab": {
          "autoexec": {
            "startup": false,
            "wait_interval": 0
          }
        }
      },
      "cell_type": "code",
      "source": [
        "!apt -y install libcusparse8.0 libnvrtc8.0 libnvtoolsext1\n",
        "!ln -snf /usr/lib/x86_64-linux-gnu/libnvrtc-builtins.so.8.0 /usr/lib/x86_64-linux-gnu/libnvrtc-builtins.so\n",
        "!pip install cupy-cuda80 chainer"
      ],
      "execution_count": 0,
      "outputs": []
    },
    {
      "metadata": {
        "id": "2bDLW7u1VhNv",
        "colab_type": "code",
        "colab": {
          "autoexec": {
            "startup": false,
            "wait_interval": 0
          }
        }
      },
      "cell_type": "code",
      "source": [
        "def LSH_GPU(X, b=8, r=32, d=0.3):\n",
        "\n",
        "    cupy.random.seed()\n",
        "    N, D = X.shape\n",
        "    X = cupy.sparse.csr_matrix(X) # bow_subset is a csr sparse matrix (Compressed sparse row matrix)\n",
        "    \n",
        "    # Generate b*r x N matrix holding vectors for random projections in each row\n",
        "    projection_vectors = cupy.random.normal(0.0, 1.0, (D, b*r))\n",
        "\n",
        "    # Conduct random projections\n",
        "    random_projections = X.dot(projection_vectors)\n",
        "    random_projections = cupy.reshape(random_projections, (N, b, r))\n",
        "    random_projections = cupy.reshape(random_projections, (N, b, r))    \n",
        "    random_projections = random_projections >= 0\n",
        "    \n",
        "    \n",
        "    # Hash each band of random projections\n",
        "    vals = 2**np.repeat([np.repeat([np.arange(r)], b, axis=0)], N, axis=0)\n",
        "    vals = cupy.array(vals)\n",
        "    hashed_values = cupy.multiply(random_projections, vals)\n",
        "    hashed_values = cupy.sum(hashed_values, axis=2)\n",
        "\n",
        "    # Return to numpy  (Needed due to absence of equivalents of certain numpy libraries)\n",
        "    X = bow_subset\n",
        "    random_projections = cupy.asnumpy(random_projections)\n",
        "    projection_vectors = cupy.asnumpy(projection_vectors)\n",
        "    hashed_values = cupy.asnumpy(hashed_values)\n",
        "    \n",
        "    # find candidates\n",
        "    candidates = []\n",
        "    for i in range(b):\n",
        "        un_values, counts = np.unique(hashed_values[:, i], return_counts=True) # get unique integers and their count (Function \"unique\" is currently missing in CuPy)\n",
        "        non_unique_values = un_values[counts > 1] # identify integers which appear more than once\n",
        "        for val in non_unique_values: # store duplicate integers as candidates\n",
        "            candidates.append(np.where(hashed_values[:, i] == val)[0])\n",
        "    n_candidates = len(candidates)\n",
        "    \n",
        "    # get cosine distance for every candidate\n",
        "    dist = [cosine_distance(X, cand[0], cand[1]) for cand in candidates] # get the distance for all candidates\n",
        "    \n",
        "    # get duplicates\n",
        "    duplicates = set((candidates[i][0], candidates[i][1], dist[i]) for i in range(len(dist)) if dist[i] <= d ) \n",
        "    \n",
        "    return duplicates, n_candidates"
      ],
      "execution_count": 0,
      "outputs": []
    },
    {
      "metadata": {
        "id": "hCiNY03wY_B_",
        "colab_type": "text"
      },
      "cell_type": "markdown",
      "source": [
        "#### Runtime comparison in seconds:"
      ]
    },
    {
      "metadata": {
        "id": "lMpeg03TtoGs",
        "colab_type": "code",
        "colab": {
          "autoexec": {
            "startup": false,
            "wait_interval": 0
          },
          "base_uri": "https://localhost:8080/",
          "height": 52
        },
        "outputId": "f71cecf2-4906-4fa8-e8bc-ee1ccb39a159",
        "executionInfo": {
          "status": "ok",
          "timestamp": 1525005459121,
          "user_tz": -120,
          "elapsed": 4187,
          "user": {
            "displayName": "Piotr Tatarczyk",
            "photoUrl": "https://lh3.googleusercontent.com/a/default-user=s128",
            "userId": "105851496253926425076"
          }
        }
      },
      "cell_type": "code",
      "source": [
        "t1 = time.time()\n",
        "duplicates, n_candidates= LSH(bow_subset, b=6, r=28, d=0.2)\n",
        "print(\"(Runtime in seconds) LSH: \", time.time() - t1)\n",
        "\n",
        "t1 = time.time()\n",
        "duplicates_GPU, n_candidates_GPU= LSH_GPU(bow_subset, b=6, r=28, d=0.2)\n",
        "print(\"(Runtime in seconds)  LSH_GPU: \",time.time() - t1)\n",
        "\n"
      ],
      "execution_count": 163,
      "outputs": [
        {
          "output_type": "stream",
          "text": [
            "(Runtime in seconds) LSH:  2.337021827697754\n",
            "(Runtime in seconds)  LSH_GPU:  1.28721284866333\n"
          ],
          "name": "stdout"
        }
      ]
    },
    {
      "metadata": {
        "id": "iIwWMaD9ZEUn",
        "colab_type": "text"
      },
      "cell_type": "markdown",
      "source": [
        "We can see a significant increase in the speed of computation. Implementation not based on numpy, containing many for-loops, took approximately 20 minutes to compute. "
      ]
    },
    {
      "metadata": {
        "id": "_KlGa8mujfjt",
        "colab_type": "code",
        "colab": {
          "autoexec": {
            "startup": false,
            "wait_interval": 0
          },
          "base_uri": "https://localhost:8080/",
          "height": 52
        },
        "outputId": "8d77ffed-1321-4cb0-86ab-7452e667c52f",
        "executionInfo": {
          "status": "ok",
          "timestamp": 1525005461798,
          "user_tz": -120,
          "elapsed": 575,
          "user": {
            "displayName": "Piotr Tatarczyk",
            "photoUrl": "https://lh3.googleusercontent.com/a/default-user=s128",
            "userId": "105851496253926425076"
          }
        }
      },
      "cell_type": "code",
      "source": [
        "print('We detected {} candidates.'.format(n_candidates))\n",
        "print('We detected {} candidates (GPU).'.format(n_candidates_GPU))"
      ],
      "execution_count": 164,
      "outputs": [
        {
          "output_type": "stream",
          "text": [
            "We detected 771 candidates.\n",
            "We detected 595 candidates (GPU).\n"
          ],
          "name": "stdout"
        }
      ]
    },
    {
      "metadata": {
        "id": "gspPhrtQjfj1",
        "colab_type": "text"
      },
      "cell_type": "markdown",
      "source": [
        "#### Show the duplicates we have found:"
      ]
    },
    {
      "metadata": {
        "id": "jedcsXV_jfj3",
        "colab_type": "code",
        "colab": {
          "autoexec": {
            "startup": false,
            "wait_interval": 0
          },
          "base_uri": "https://localhost:8080/",
          "height": 177
        },
        "outputId": "e107f3fd-eb04-4f52-9b56-1a4414fb9568",
        "executionInfo": {
          "status": "ok",
          "timestamp": 1525005464704,
          "user_tz": -120,
          "elapsed": 550,
          "user": {
            "displayName": "Piotr Tatarczyk",
            "photoUrl": "https://lh3.googleusercontent.com/a/default-user=s128",
            "userId": "105851496253926425076"
          }
        }
      },
      "cell_type": "code",
      "source": [
        "print(\"Duplicates:\")\n",
        "duplicates"
      ],
      "execution_count": 165,
      "outputs": [
        {
          "output_type": "stream",
          "text": [
            "Duplicates:\n"
          ],
          "name": "stdout"
        },
        {
          "output_type": "execute_result",
          "data": {
            "text/plain": [
              "{(1809, 13244, 0.0),\n",
              " (6600, 93310, 0.0),\n",
              " (17779, 72702, 1.1102230246251565e-16),\n",
              " (28508, 64525, 0.10912919362525197),\n",
              " (32066, 71726, 0.0),\n",
              " (35163, 82597, 1.1102230246251565e-16),\n",
              " (42795, 95179, 0.0),\n",
              " (47940, 65607, 0.0)}"
            ]
          },
          "metadata": {
            "tags": []
          },
          "execution_count": 165
        }
      ]
    },
    {
      "metadata": {
        "id": "1EXjVTMn19YC",
        "colab_type": "code",
        "colab": {
          "autoexec": {
            "startup": false,
            "wait_interval": 0
          },
          "base_uri": "https://localhost:8080/",
          "height": 106
        },
        "outputId": "8515bf29-1e5a-4a1b-899f-d5509ace76c8",
        "executionInfo": {
          "status": "ok",
          "timestamp": 1525005467131,
          "user_tz": -120,
          "elapsed": 535,
          "user": {
            "displayName": "Piotr Tatarczyk",
            "photoUrl": "https://lh3.googleusercontent.com/a/default-user=s128",
            "userId": "105851496253926425076"
          }
        }
      },
      "cell_type": "code",
      "source": [
        "print(\"Duplicates_GPU: \")\n",
        "duplicates_GPU"
      ],
      "execution_count": 166,
      "outputs": [
        {
          "output_type": "stream",
          "text": [
            "Duplicates_GPU: \n"
          ],
          "name": "stdout"
        },
        {
          "output_type": "execute_result",
          "data": {
            "text/plain": [
              "{(1809, 13244, 0.0),\n",
              " (6600, 93310, 0.0),\n",
              " (42795, 95179, 0.0),\n",
              " (47940, 65607, 0.0)}"
            ]
          },
          "metadata": {
            "tags": []
          },
          "execution_count": 166
        }
      ]
    },
    {
      "metadata": {
        "id": "p1YVkNGHjfkI",
        "colab_type": "text"
      },
      "cell_type": "markdown",
      "source": [
        "#### Retrieve original data for the detected reviews:"
      ]
    },
    {
      "metadata": {
        "id": "c-IY_3TLjfkL",
        "colab_type": "code",
        "colab": {
          "autoexec": {
            "startup": false,
            "wait_interval": 0
          }
        }
      },
      "cell_type": "code",
      "source": [
        "similar_review_pairs = []\n",
        "for ix1, ix2, sim in duplicates:\n",
        "    rev1 = reviews[ix1]\n",
        "    rev2 = reviews[ix2]\n",
        "    similar_review_pairs.append((rev1, rev2, sim))"
      ],
      "execution_count": 0,
      "outputs": []
    },
    {
      "metadata": {
        "id": "8g1Q6IN8jfkU",
        "colab_type": "text"
      },
      "cell_type": "markdown",
      "source": [
        "#### Show the detected pairs with cosine distance > 0 (not exact duplicates), and highlight the words not present in the used bag-of-words."
      ]
    },
    {
      "metadata": {
        "id": "pSumgQRQjfkV",
        "colab_type": "code",
        "colab": {
          "autoexec": {
            "startup": false,
            "wait_interval": 0
          }
        }
      },
      "cell_type": "code",
      "source": [
        "pattern = re.compile('(\\S+|\\n)')\n",
        "pattern_punctuation = re.compile('^\\W+|\\W+$')\n",
        "\n",
        "def highlight_vocabulary(text, vocabulary):\n",
        "    split = re.findall(r\"[\\w']+\", text)\n",
        "    in_vocabulary = [pattern.sub(lambda m: pattern_punctuation.sub('', m.group()), str.lower(x)) in words for x in split]\n",
        "    highlighted_words = [\"**{}**\".format(x) if in_vocabulary[ix] else x for ix,x in enumerate(split) ]\n",
        "    highlighted_text = \" \".join(highlighted_words)\n",
        "    return highlighted_text\n",
        "\n",
        "def printmd(string):\n",
        "    display(Markdown(string))"
      ],
      "execution_count": 0,
      "outputs": []
    },
    {
      "metadata": {
        "id": "V5gVfmjUjfka",
        "colab_type": "code",
        "colab": {
          "autoexec": {
            "startup": false,
            "wait_interval": 0
          },
          "base_uri": "https://localhost:8080/",
          "height": 230
        },
        "outputId": "a36fe2a6-d06c-4563-b84f-0929d25c992e",
        "executionInfo": {
          "status": "ok",
          "timestamp": 1525006700607,
          "user_tz": -120,
          "elapsed": 553,
          "user": {
            "displayName": "Piotr Tatarczyk",
            "photoUrl": "https://lh3.googleusercontent.com/a/default-user=s128",
            "userId": "105851496253926425076"
          }
        }
      },
      "cell_type": "code",
      "source": [
        "for r1, r2, sim in similar_review_pairs:\n",
        "    if not np.isclose(sim, 0.0):\n",
        "        print(highlight_vocabulary(r1['text'], words))\n",
        "        print(\"\")\n",
        "        print(\"vs.\")\n",
        "        print(\"\")\n",
        "        print(highlight_vocabulary(r2['text'], words))\n",
        "        print(\"===\")\n",
        "        print(\"Same business: {}\".format(r1['business_id'] == r2['business_id']))\n",
        "        print(\"Same user: {}\".format(r1['user_id'] == r2['user_id']))\n",
        "        print(\"Cosine distance {:.4f}\".format(sim))\n",
        "        print(\"\")    \n",
        "        print(\"#######\")\n",
        "        print(\"\")"
      ],
      "execution_count": 182,
      "outputs": [
        {
          "output_type": "stream",
          "text": [
            "**Good** **food** **Good** **music** **Good** **service** All goooodddddddd I **love** it This **restaurant** is so **good** **1**\n",
            "\n",
            "vs.\n",
            "\n",
            "**Good** **Service** **Good** **food**\n",
            "===\n",
            "Same business: False\n",
            "Same user: False\n",
            "Cosine distance 0.1091\n",
            "\n",
            "#######\n",
            "\n"
          ],
          "name": "stdout"
        }
      ]
    },
    {
      "metadata": {
        "id": "u1MWJmSXjfki",
        "colab_type": "text"
      },
      "cell_type": "markdown",
      "source": [
        "## Intractability of the pairwise naive cosine distance computation between all reviews\n",
        "\n",
        "We can optionally verify that a naive nearest neighbour search is infeasible given the dataset of this size. **Warning: running this code may freeze your machine!**\n"
      ]
    },
    {
      "metadata": {
        "id": "Xc1Oz7zrjfkl",
        "colab_type": "code",
        "colab": {
          "autoexec": {
            "startup": false,
            "wait_interval": 0
          }
        }
      },
      "cell_type": "code",
      "source": [
        "# from sklearn.metrics.pairwise import pairwise_distances\n",
        "# distances = pairwise_distances(bow_subset, metric='cosine')"
      ],
      "execution_count": 0,
      "outputs": []
    },
    {
      "metadata": {
        "id": "OXUNSB-9jfks",
        "colab_type": "text"
      },
      "cell_type": "markdown",
      "source": [
        "## Runtime comparison\n",
        "To compare runtimes, a naive for-loop implementation is provided. It helps with the memory issues and takes $O(N^2)$ time.\n",
        "\n",
        "<b>Parameters</b>:<br/>\n",
        "\n",
        "<i>X</i> :  sp.spmatrix, shape [N, K] (Sparse data matrix)<br/>\n",
        "<i>d</i> :  float (Distance treshold for reporting duplicates) <br/>\n",
        "\n",
        "\n",
        "<b>Return</b>: <br/> \n",
        "<i>duplicates</i> :  {(ID1, ID2, d_{12}), ..., (IDX, IDY, d_{xy})}. A set of tuples containing: (ID of the 1. review), (ID of the 2. review), (The cosine distance between them)<br/>"
      ]
    },
    {
      "metadata": {
        "id": "yOBih1T_jfku",
        "colab_type": "code",
        "colab": {
          "autoexec": {
            "startup": false,
            "wait_interval": 0
          }
        }
      },
      "cell_type": "code",
      "source": [
        "def naive_duplicates(X, d = 0.2):\n",
        "\n",
        "    N = X.shape[0]\n",
        "    duplicates = set()\n",
        "    for i in range(N):\n",
        "        for j in range(N):\n",
        "            d_ij = cosine_distance(X, i, j)\n",
        "            if d_ij < d and i != j:\n",
        "                duplicates.add((i, j, d_ij))\n",
        "                \n",
        "    return duplicates"
      ],
      "execution_count": 0,
      "outputs": []
    },
    {
      "metadata": {
        "id": "R-QtqAXPjfk7",
        "colab_type": "code",
        "colab": {
          "autoexec": {
            "startup": false,
            "wait_interval": 0
          }
        }
      },
      "cell_type": "code",
      "source": [
        "def runtime_comparison():\n",
        "\n",
        "    trace = []\n",
        "    for n in np.arange(25, 251, 25):\n",
        "        print('Running comparison for {} reviews.'.format(n))\n",
        "        t = time.time()\n",
        "        LSH(bow_subset[:n], b=6, r=28, d=0.2)\n",
        "        t_lsh = time.time() - t\n",
        "        t = time.time()\n",
        "        naive_duplicates(bow_subset[:n], d=0.2)\n",
        "        t_naive = time.time() - t\n",
        "        \n",
        "        trace.append((n, t_lsh, t_naive))\n",
        "        \n",
        "    return trace  "
      ],
      "execution_count": 0,
      "outputs": []
    },
    {
      "metadata": {
        "id": "M1av-RCEjflC",
        "colab_type": "code",
        "colab": {
          "autoexec": {
            "startup": false,
            "wait_interval": 0
          }
        }
      },
      "cell_type": "code",
      "source": [
        "trace = runtime_comparison()"
      ],
      "execution_count": 0,
      "outputs": []
    },
    {
      "metadata": {
        "id": "FvIdbgIhjflI",
        "colab_type": "text"
      },
      "cell_type": "markdown",
      "source": [
        "We plot the runtime w.r.t the number of analysed reviews. We see an exponential growth of runtime in naive implementation. The blue line represents the LSH algorithm. The test set is too small to see any growth in computation time for LSH. (It took about 2 seconds to compute 100.000 reviews)"
      ]
    },
    {
      "metadata": {
        "id": "MmHy6m6QjflJ",
        "colab_type": "code",
        "colab": {
          "autoexec": {
            "startup": false,
            "wait_interval": 0
          },
          "base_uri": "https://localhost:8080/",
          "height": 497
        },
        "outputId": "50c0175d-8858-4af1-dca3-cf44413690e3",
        "executionInfo": {
          "status": "ok",
          "timestamp": 1525006549248,
          "user_tz": -120,
          "elapsed": 574,
          "user": {
            "displayName": "Piotr Tatarczyk",
            "photoUrl": "https://lh3.googleusercontent.com/a/default-user=s128",
            "userId": "105851496253926425076"
          }
        }
      },
      "cell_type": "code",
      "source": [
        "x = np.arange(25, 251, 25)\n",
        "plt.figure(figsize=[8, 8])\n",
        "plt.plot(x, [tr[1] for tr in trace], label='LSH') # LSH\n",
        "plt.plot(x, [tr[2] for tr in trace], label='NAIVE') # NAIVE\n",
        "plt.ylabel('Runtime in [s]')\n",
        "plt.xlabel('Number of reviews')\n",
        "plt.legend()\n",
        "plt.show()"
      ],
      "execution_count": 179,
      "outputs": [
        {
          "output_type": "display_data",
          "data": {
            "image/png": "[encoded data removed]",
            "text/plain": [
              "<matplotlib.figure.Figure at 0x7fc9c3aec780>"
            ]
          },
          "metadata": {
            "tags": []
          }
        }
      ]
    }
  ]
}