{
 "cells": [
  {
   "cell_type": "markdown",
   "metadata": {},
   "source": [
    "# Project task 03: Hidden Markov Model"
   ]
  },
  {
   "cell_type": "code",
   "execution_count": 1,
   "metadata": {
    "collapsed": true
   },
   "outputs": [],
   "source": [
    "import numpy as np\n",
    "import scipy.sparse as sp\n",
    "import re\n",
    "import json\n",
    "import time\n",
    "import math\n",
    "from scipy.sparse import linalg as spl\n",
    "from collections import defaultdict\n",
    "from IPython.display import Markdown, display\n",
    "import matplotlib.pyplot as plt\n",
    "from IPython.display import Image\n",
    "\n",
    "%matplotlib inline"
   ]
  },
  {
   "cell_type": "markdown",
   "metadata": {},
   "source": [
    "## 1. Introduction\n",
    "\n",
    "\n",
    "In this proejct task, we use hidden markov models (HMMs) as a probabilistic generative model for text data. Intuitively, we can think of each latent variable $Z_t \\in \\lbrace 1,...,K \\rbrace$ as, e.g., a hidden part-of-speech tag (like noun, verb, or adjective). Each observation $X_t\\in \\lbrace 1,...,V \\rbrace$ is a word. $K$ denotes number of possible states and $V$ denotes the number of words in our vocabulary. The model generates a sequence of words (i.e. a sentence) as follows:\n",
    "* Generate $Z_1$ from the initial probability distribution ${\\pi} \\in \\mathbb{R}^K$:\n",
    "\\begin{equation}\n",
    "Pr(Z_1=k) = \\mathbf{\\pi}_k.\n",
    "\\end{equation}\n",
    "* Given $Z_1$, generate $Z_2,Z_3,...,Z_t$ as :\n",
    "\\begin{equation}\n",
    "Pr(Z_{t+1}=j|Z_t=i) = \\mathbf{A}_{ij},\n",
    "\\end{equation}\n",
    "where $\\mathbf{A} \\in \\mathbb{R}^{K\\times K}$ is the state transition probability matrix.\n",
    "\n",
    "* Given $Z_t$, generate $X_t$ as :\n",
    "\\begin{equation}\n",
    "Pr(X_{t}=v|Z_t=i) = \\mathbf{B}_{iv},\n",
    "\\end{equation}\n",
    "\n",
    "\n",
    "Indeed, given a parameter set $\\lbrace \\mathbf{A},\\mathbf{B},\\pi \\rbrace$ we can generate a set of sentences. Of course the set can contain sentences of different sizes.   "
   ]
  },
  {
   "cell_type": "markdown",
   "metadata": {},
   "source": [
    "Your task is to classify a given sentence as either 1-star or 5-star. For this task, roughly we consider the following procedure:\n",
    "* We select a subset of 1-star (resp. 5-star) reviews as training set. (will be stored in variables `reviews_1star_train` (resp. `reviews_5star_train`))  \n",
    "* We learn **two** HMMs: HMM $\\mathcal{H}_1$ on `reviews_1star_train` and HMM $\\mathcal{H}_5$ on `reviews_5star_train`.\n",
    "* In test phase, we classify a sentence based on the likelihood of the sentence in $\\mathcal{H}_1$ and $\\mathcal{H}_5$ and class probability of 1-star and 5-star reviews.\n",
    "\n",
    "The above steps are elaborated upon in Section 3."
   ]
  },
  {
   "cell_type": "markdown",
   "metadata": {},
   "source": [
    "## 2. Load data"
   ]
  },
  {
   "cell_type": "markdown",
   "metadata": {},
   "source": [
    "We'll be working with a subset of reviews for restaurants in Las Vegas. The reviews that we'll be working with are either 1-star or 5-star. \n",
    "You can download the used data set (`task03_data.npy`) from:\n",
    "\n",
    "* ([download link](https://syncandshare.lrz.de/dl/fi7cjApuE3Bd3xyfsyx3k9jr/task03_data.npy)) the preprocessed set of 1-star and 5-star reviews "
   ]
  },
  {
   "cell_type": "code",
   "execution_count": 2,
   "metadata": {
    "collapsed": true
   },
   "outputs": [],
   "source": [
    "data = np.load(\"task03_data.npy\")\n",
    "reviews_1star = data.item()[\"reviews_1star\"]\n",
    "reviews_5star = data.item()[\"reviews_5star\"]"
   ]
  },
  {
   "cell_type": "markdown",
   "metadata": {},
   "source": [
    "The variable `reviews_1star` (resp. `reviews_5star`) is a list of sentences of 1-star (resp. 5-star) reviews. Each sentence is itself a list of words."
   ]
  },
  {
   "cell_type": "markdown",
   "metadata": {},
   "source": [
    "We can inspect how the sentences look like:"
   ]
  },
  {
   "cell_type": "code",
   "execution_count": 3,
   "metadata": {},
   "outputs": [
    {
     "name": "stdout",
     "output_type": "stream",
     "text": [
      "a 1-star review: ['This', 'place', 'tops', 'the', 'least', 'favorite', 'list', 'by', 'a', 'long', 'shot']\n",
      "a 5-star review: ['Filet', 'mignon', 'and', 'lobster', 'tail', 'was', 'very', 'good']\n"
     ]
    }
   ],
   "source": [
    "print(\"a 1-star review: \" + str(reviews_1star[1]))\n",
    "print(\"a 5-star review: \" + str(reviews_5star[1]))"
   ]
  },
  {
   "cell_type": "markdown",
   "metadata": {},
   "source": [
    "## 3. Implementaion\n",
    "\n",
    "A set of sentences are assumed to be generated from an HMM $\\mathcal{H}$ as explained in introduction.\n",
    "We denote parameters of $\\mathcal{H}$ by $\\lbrace \\mathbf{A},\\mathbf{B},\\pi \\rbrace$. Given the set of sentences, your task is to learn the unknown parameters $\\lbrace \\mathbf{A},\\mathbf{B},\\pi \\rbrace$ via EM algorithm for HMMs, i.e.,  Baum-Welch algorithm.\n"
   ]
  },
  {
   "cell_type": "markdown",
   "metadata": {},
   "source": [
    "We provide a helper class `HMM_Params` that contains three randomly-initialized stochastic matrices $\\mathbf{A}\\in \\mathbb{R}^{K\\times K}$, $\\mathbf{B}\\in \\mathbb{R}^{K\\times V}$, and $\\pi \\in \\mathbb{R}^{K\\times 1}$."
   ]
  },
  {
   "cell_type": "code",
   "execution_count": 4,
   "metadata": {
    "collapsed": true
   },
   "outputs": [],
   "source": [
    "class HMM_Params:\n",
    "    \n",
    "    def __init__(self,n_states,n_symbols):\n",
    "        \"\"\" Makes three randomly initialized stochastic matrices `self.A`, `self.B`, `self.pi`.\n",
    "        \n",
    "        Parameters\n",
    "        ----------\n",
    "        n_states: int\n",
    "                  number of possible values for Z_t.\n",
    "        n_symbols: int\n",
    "                  number of possible values for X_t.\n",
    "                  \n",
    "        Returns\n",
    "        -------\n",
    "        None\n",
    "        \n",
    "        \"\"\"\n",
    "        self.A  = self.rnd_stochastic_mat(n_states,n_states)\n",
    "        self.B  = self.rnd_stochastic_mat(n_states,n_symbols)\n",
    "        self.pi = self.rnd_stochastic_mat(1,n_states).transpose()\n",
    "    def rnd_stochastic_mat(self,I,J):\n",
    "        \"\"\" Retruns a randomly initialized stochastic matrix with shape (I,J).\n",
    "        \n",
    "        Parameters\n",
    "        ----------\n",
    "        I: int\n",
    "           shape[0] of desired matrix.\n",
    "        J: int\n",
    "           shape[1] of disired matrix.\n",
    "                  \n",
    "        Returns\n",
    "        -------\n",
    "        x: np.ndarray\n",
    "           a rondom stochastic matrix with shape (I,J)\n",
    "        \n",
    "        \"\"\"\n",
    "        x = np.full((I,J),(1/J))\n",
    "        x = x + (np.random.randn(I,J)*(1.0/(J*J)))\n",
    "        x = x/np.reshape(np.sum(x,axis=1),newshape=(I,1))\n",
    "        return x"
   ]
  },
  {
   "cell_type": "markdown",
   "metadata": {},
   "source": [
    "We provide a helper class `HMM_TxtGenerator`.\n",
    "Complete the implementation of the following functions:\n",
    "* `HMM_TxtGenerator.forwards_backwards(sentence_in)`\n",
    "* `HMM_TxtGenerator.E_step(sentence_in)`\n",
    "* `HMM_TxtGenerator.generate_sentence(sentence_length)`\n",
    "\n",
    "For parameter describtions, please refer to the headers below. \n",
    "\n",
    "Note that `HMM_TxtGenerator` is a model which will be defined only on one curpos. We are going to make two instances of this class, one for 1-star reviews and one for 5-star reviews. "
   ]
  },
  {
   "cell_type": "code",
   "execution_count": 66,
   "metadata": {
    "collapsed": true
   },
   "outputs": [],
   "source": [
    "class HMM_TxtGenerator:\n",
    "    def __init__(self,corpus,K):\n",
    "        \"\"\"Given the set of sentences `corpus` and number of states `K`, builds an HMM.\n",
    "           Firstly it makes the volcabulary `self.word_list` based on all present words in \n",
    "           `corpus`. The variable `self.word_list` is a list of words. Then index of the word\n",
    "           `self.word_list[v]` is v. Moreover, this function constructs `self.model_params`\n",
    "           which is an instance of randomly initialized `HMM_Params`.\n",
    "    \n",
    "        Parameters\n",
    "        ----------\n",
    "        corpus : A list of sentences. Each sentence is a list of words.  \n",
    "            We will learn model_params using sentences in `corpus`.\n",
    "        K: int\n",
    "           Number of possible states, i.e. Z_t \\in {0,...,K-1}\n",
    "        \n",
    "    \n",
    "        Returns\n",
    "        -------\n",
    "        None :\n",
    "        \"\"\"\n",
    "        self.corpus = corpus.copy()\n",
    "        self.K = K\n",
    "        #collect all words ---\n",
    "        word_dic = {}\n",
    "        for sent in self.corpus:\n",
    "            for w in sent:\n",
    "                if(w in word_dic):\n",
    "                    word_dic[w] = word_dic[w] + 1\n",
    "                else:\n",
    "                    word_dic[w] = 1\n",
    "        self.word_list = [u for u in word_dic.keys()]\n",
    "        self.word_dic  = word_dic\n",
    "        self.V = len(self.word_list)\n",
    "        #init params\n",
    "        self.model_params = HMM_Params(K,len(self.word_list))\n",
    "    \n",
    "    def forwards_backwards(self,sentence_in):\n",
    "        \"\"\"Does the forwards-backwards algorithm for an observed list of words\n",
    "           (i.e. and observed sentence).\n",
    "    \n",
    "        Parameters\n",
    "        ----------\n",
    "        sentence_in : a list of T words. Each word is a string.\n",
    "                      You can convert `sentence_in` to a sequence of word-indices\n",
    "                      as `x = self.sentence_to_X(sentence_in)`. \n",
    "            \n",
    "        Returns\n",
    "        -------\n",
    "        alpha : np.ndarray, shape=(T,K)\n",
    "                alpha(t,k) = Pr(Z_t=k,x[1:t])\n",
    "        beta  : np.ndarray, shape=(T,K)\n",
    "                beta(t,k)  = Pr(X_{t+1:T}|Z_t=k)\n",
    "        log_likelihood  : scalar\n",
    "                log probability of evidence, Pr(X_{1:T}=sentence_in) \n",
    "        \"\"\"\n",
    "        \n",
    "        alpha = np.zeros((len(sentence_in),K))\n",
    "        beta = np.zeros((len(sentence_in),K))\n",
    "        x = self.sentence_to_X(sentence_in)\n",
    "\n",
    "    \n",
    "        # Calculate alpha\n",
    "        \n",
    "        alpha[0] = self.model_params.B[:, x[0]] * self.model_params.pi.flatten()\n",
    "        for t in range(1,len(sentence_in)):\n",
    "            \n",
    "            alpha[t] = self.model_params.B[:, x[t]] * (self.model_params.A.T @ alpha[t-1])\n",
    "\n",
    "        # Calculate beta\n",
    "        \n",
    "        beta[len(sentence_in)-1] = 1\n",
    "        for t in range(len(sentence_in)-2, -1, -1):\n",
    "            \n",
    "            beta[t] = self.model_params.A@(self.model_params.B[:,x[t]]*beta[t+1])\n",
    "\n",
    "        # Calculate log likelihood\n",
    "        \n",
    "        log_likelihood = np.log(np.sum(alpha[len(sentence_in)-1]))\n",
    "        \n",
    "        return alpha, beta, log_likelihood\n",
    "\n",
    "     \n",
    "\n",
    "\n",
    "    def E_step(self,sentence_in):\n",
    "        \"\"\"Given the observed `sentence_in`, computes E[N(i,j)], E[M(i,j)], and E[L(k)].\n",
    "           The notation here is compatible with notations of lecture slides, slides 44-46.\n",
    "           Hint: You can begin by computing alpha and beta as\n",
    "                    `forwards_backwards(self,sentence_in)`\n",
    "        \n",
    "        Parameters\n",
    "        ----------\n",
    "        sentence_in : a list of T words. Each word is a string.\n",
    "                      You can convert sentence_in to a sequence of word-indices\n",
    "                      as `x = self.sentence_to_X(sentence_in)`. \n",
    "            \n",
    "        Returns\n",
    "        -------\n",
    "        EN : np.ndarray, shape=(K,K)\n",
    "             Contains values for E[N(i,j)], where N(i,j) is the expected number of \n",
    "             transitions [i=>j] in the sequence [Z_1,..,Z_T], given the observed `sentence_in`.\n",
    "        EM : np.ndarray, shape=(K,V)\n",
    "             Contains values for E[M(i,v)], where M(i,v) is the expected number of \n",
    "             transitions [i=>v] in the sequence [Z_t,X_t], given the observed `sentence_in`.\n",
    "        EL : np.ndarray, shape=(K,1)\n",
    "             Contains values for E[L(k)]  where L(k)=[Z_1==k] given the observed `sentence_in`.\n",
    "        \"\"\"\n",
    "\n",
    "        alpha, beta, _ =self.forwards_backwards(sentence_in)\n",
    "        x = self.sentence_to_X(sentence_in)\n",
    "        \n",
    "        # Calculate the gamma expression\n",
    "        \n",
    "        gamma = alpha * beta\n",
    "        gamma = gamma / (np.sum(gamma, axis = 1, keepdims=True))\n",
    "        \n",
    "        # Calculate EM and EL\n",
    "        \n",
    "        EL = gamma[0].reshape(K, 1)\n",
    "        \n",
    "        EM = np.zeros((K, self.V))\n",
    "\n",
    "        for i in range(K):\n",
    "            for t in range(alpha.shape[0]):\n",
    "                \n",
    "                EM[i,x[t]] = EM[i,x[t]] + gamma[t,i]\n",
    "        \n",
    "        # Calculate the EN expression\n",
    "        \n",
    "        EN = np.zeros((alpha.shape[0]-1,K,K))\n",
    "        \n",
    "        for t in range(alpha.shape[0]-1):\n",
    "            for i in range(K):\n",
    "                for j in range(K):\n",
    "                    \n",
    "                    EN[t,i,j] = alpha[t,i] * self.model_params.A[i,j] * beta[t+1,j] * self.model_params.B[j,x[t+1]]\n",
    "        \n",
    "        EN = EN / ( np.sum(np.sum(EN, axis=2, keepdims=True), axis=1, keepdims=True))\n",
    "        \n",
    "        EN = np.sum(EN, axis=0)\n",
    "\n",
    "        \n",
    "        return EN, EM, EL\n",
    "        \n",
    "        \n",
    "        \n",
    "    \n",
    "    def generate_sentence(self,sentence_length):\n",
    "        \"\"\" Given the model parameter,generates an observed\n",
    "            sequence of length `sentence_length`.\n",
    "            Hint: after generating a list of word-indices like `x`, you can convert it to\n",
    "                  an actual sentence as `self.X_to_sentence(x)`\n",
    "            \n",
    "        Parameters\n",
    "        ----------\n",
    "        sentence_length : int,\n",
    "                        length of the generated sentence.\n",
    "            \n",
    "        Returns\n",
    "        -------\n",
    "        sent : a list of words, like ['the' , 'food' , 'was' , 'good'] \n",
    "               a sentence generated from the model.\n",
    "        \"\"\"\n",
    "        word_list = []\n",
    "        pi, A, B = self.model_params.pi, self.model_params.A, self.model_params.B\n",
    "\n",
    "        \n",
    "        # Generate the first element\n",
    "        \n",
    "        # normalize the vector\n",
    "        p_xt = pi / np.sum(pi)\n",
    "        # get random index from pi\n",
    "        k=np.random.randint(0,len(pi))\n",
    "        # sample from the emission matrix\n",
    "        word_list.append(np.random.randint(0,len(B[k,:])))\n",
    "        \n",
    "        for t in range(1, sentence_length):\n",
    "            # compute P(X_t)\n",
    "            p_xt = A[k]*p_xt\n",
    "            # normalize\n",
    "            p_xt = p_xt / np.sum(p_xt)\n",
    "            # sample next k\n",
    "            k=np.random.randint(0,(len(p_xt)))\n",
    "            # sample next word with given k\n",
    "            word_list.append(np.random.randint(0,len(B[k,:])))\n",
    "            \n",
    "        sent = self.X_to_sentence(word_list)\n",
    "        \n",
    "        return sent\n",
    "        \n",
    "    \n",
    "    def X_to_sentence(self,input_x):\n",
    "        \"\"\"Convert a list of word-indices to an actual sentence (i.e. a list of words).\n",
    "           To convert a word-index to an actual word, it looks at `self.word_list`.\n",
    "           \n",
    "    \n",
    "        Parameters\n",
    "        ----------\n",
    "        input_x : a list of integer\n",
    "                  list of word-indices, like [0,6,1,3,2,...,1]\n",
    "        \n",
    "    \n",
    "        Returns\n",
    "        -------\n",
    "        sent : a list of words like ['the', 'food', 'was', 'good']\n",
    "        \"\"\"\n",
    "        sent = []\n",
    "        V = len(self.word_list)\n",
    "        for u in input_x:\n",
    "            if(u<V):\n",
    "                sent.append(self.word_list[u])\n",
    "            else:\n",
    "                raise Exception(\"values of input_x have to be in \" +\\\n",
    "                                str([0,V-1])  + \", but got the value \" + str(u) + \".\")\n",
    "        return sent\n",
    "    \n",
    "    def sentence_to_X(self,input_sentence):\n",
    "        \"\"\"Convert a sentence (i.e. a list of words) to a list of word-indices.\n",
    "           Index of the word `w` is `self.word_list.index(w)`.\n",
    "           \n",
    "    \n",
    "        Parameters\n",
    "        ----------\n",
    "        input_sentence : list\n",
    "                         a list of words like ['the', 'food', 'was', 'good']\n",
    "        \n",
    "        Returns\n",
    "        -------\n",
    "        X : list\n",
    "            a list of word-indices like [50,4,3,20]\n",
    "        \"\"\"\n",
    "        X = []\n",
    "        for w in input_sentence:\n",
    "            X.append(self.word_list.index(w))\n",
    "        return X\n",
    "    \n",
    "    def is_in_vocab(self,sentence_in):\n",
    "        \"\"\"Checks if all words in sentence_in are in vocabulary.\n",
    "           If `sentence_in` contains a word like `w` which is not in `self.word_list`,\n",
    "           it means that we've not seen word `w` in training set (i.e. `curpus`).\n",
    "           \n",
    "    \n",
    "        Parameters\n",
    "        ----------\n",
    "        sentence_in : list\n",
    "                      a list of words like ['the', 'food', 'was', 'good']\n",
    "        \n",
    "        Returns\n",
    "        -------\n",
    "        to_ret : boolean\n",
    "            [We've seen all words in `sentence_in` when training model-params.]\n",
    "        \"\"\"\n",
    "        to_return = True\n",
    "        for w in sentence_in:\n",
    "            if(w not in self.word_list):\n",
    "                to_return = False\n",
    "        return to_return\n",
    "    \n",
    "    def update_params(self):\n",
    "        \"\"\" One update procedure of the EM algorithm.\n",
    "            - E-step: For each sentence like `sent` in corpus, it firstly computes expected\n",
    "                     number of transitions in posterior distribution by calling \n",
    "                    `sent_EN,sent_EM,sent_EL = self.E_step(sent)`. Then it sums them up to get\n",
    "                     expected number of total transitions in posterior distribution.\n",
    "            - M-step: makes accumulated EN,EM,EL row-normalized, and assigned the row-normalized\n",
    "                      values to A,B,pi.\n",
    "        Parameters\n",
    "        ----------\n",
    "        None\n",
    "        \n",
    "        Returns\n",
    "        -------\n",
    "        None\n",
    "        \"\"\"\n",
    "        #E-step\n",
    "        K = self.K\n",
    "        V = self.V\n",
    "        sum_EN , sum_EM , sum_EL = np.zeros([K,K]),np.zeros([K,V]),np.zeros([K,1])\n",
    "        for sent in self.corpus:\n",
    "            en,em,el = self.E_step(sent)\n",
    "            sum_EN = sum_EN + en\n",
    "            sum_EM = sum_EM + em\n",
    "            sum_EL = sum_EL + el\n",
    "        #M-step\n",
    "        A_new  = sum_EN / np.reshape(np.sum(sum_EN,axis=1),newshape=(K,1))\n",
    "        B_new  = sum_EM / np.reshape(np.sum(sum_EM,axis=1),newshape=(K,1))\n",
    "        pi_new = sum_EL / np.sum(sum_EL)\n",
    "        self.model_params.A = A_new\n",
    "        self.model_params.B = B_new\n",
    "        self.model_params.pi = pi_new\n",
    "        \n",
    "    \n",
    "    def learn_params(self,num_iter):\n",
    "        \"\"\" Runs update procedures of the EM-algorithm for `num_iter` iterations.\n",
    "        \n",
    "        Parameters\n",
    "        ----------\n",
    "        num_iter: int\n",
    "                  number of iterations.\n",
    "        \n",
    "        Returns\n",
    "        -------\n",
    "        history_loglik: list of floats\n",
    "                `history_loglik[t]` is log-probability of training data in iteration `t`.\n",
    "        \"\"\"\n",
    "        history_loglik = []\n",
    "        for counter in range(num_iter):\n",
    "            print(\"iteration \" + str(counter) +\\\n",
    "                  \" of \" + str(num_iter) , end=\"\\r\")\n",
    "            history_loglik.append(self.loglik_corpus())\n",
    "            self.update_params()\n",
    "        return history_loglik\n",
    "    \n",
    "    def loglik_corpus(self):\n",
    "        \"\"\" Computes log-likelihood of the corpus based on current parameters.\n",
    "        \n",
    "        Parameters\n",
    "        ----------\n",
    "        None\n",
    "        \n",
    "        Returns\n",
    "        -------\n",
    "        loglik: float\n",
    "                log-likelihood of the corpus based on current parameters.\n",
    "        \n",
    "        \"\"\"\n",
    "        loglik = 0\n",
    "        for sent in self.corpus:\n",
    "            _,_,loglik_of_sent = self.forwards_backwards(sent)\n",
    "            loglik += loglik_of_sent\n",
    "        return loglik\n",
    "    \n",
    "    def loglik_sentence(self,sentence_in):\n",
    "        \"\"\" Computes log-likelihood of `sentence_in` based on current parameters.\n",
    "        \n",
    "        Parameters\n",
    "        ----------\n",
    "        sentence_in: a list of words\n",
    "        \n",
    "        Returns\n",
    "        -------\n",
    "        loglik_of_sent: float\n",
    "                        log-likelihood of `sentence_in` based on current parameters.\n",
    "        \"\"\"\n",
    "        #check if all words are in corpus.\n",
    "        for w in sentence_in:\n",
    "            if(w not in self.word_list):\n",
    "                return -np.Inf\n",
    "        _,_,loglik_of_sent = self.forwards_backwards(sentence_in)\n",
    "        return loglik_of_sent"
   ]
  },
  {
   "cell_type": "markdown",
   "metadata": {},
   "source": [
    "We split each set of reviews (i.e. `reviews_1star` and `reviews_5star`) into training/test sets.\n",
    "You can change percentage of train/test instances by setting `train_percentage`."
   ]
  },
  {
   "cell_type": "code",
   "execution_count": 67,
   "metadata": {
    "collapsed": true
   },
   "outputs": [],
   "source": [
    "train_percentage = 80\n",
    "def split_to_traintest(in_list,percentage):\n",
    "    n_train = math.floor(len(in_list)*percentage/100)\n",
    "    n_test  = len(in_list) - n_train\n",
    "    return in_list[0:n_train],in_list[n_train:]\n",
    "reviews_1star_train , reviews_1star_test = split_to_traintest(reviews_1star,train_percentage)\n",
    "reviews_5star_train , reviews_5star_test = split_to_traintest(reviews_5star,train_percentage)\n",
    "reviews_test = reviews_1star_test + reviews_5star_test\n",
    "y_test  = [1 for i in range(len(reviews_1star_test))] + \\\n",
    "          [5 for i in range(len(reviews_5star_test))]"
   ]
  },
  {
   "cell_type": "markdown",
   "metadata": {},
   "source": [
    "We assume that 1-star reviews and 5-star reviews are generated from two different HMMs.\n",
    "Therefore, we define two HMMs `hmm_1star` and `hmm_5star` and we learn their parameters using the sets `reviews_1star_train` and `reviews_5star_train`, respectively."
   ]
  },
  {
   "cell_type": "markdown",
   "metadata": {},
   "source": [
    "Firstly let's define two HMMs. `K` is the number of possible hidden states. Here we set it maually to a constant."
   ]
  },
  {
   "cell_type": "code",
   "execution_count": 68,
   "metadata": {
    "collapsed": true
   },
   "outputs": [],
   "source": [
    "K = 8\n",
    "hmm_1 = HMM_TxtGenerator(reviews_1star_train,K)\n",
    "hmm_5 = HMM_TxtGenerator(reviews_5star_train,K)"
   ]
  },
  {
   "cell_type": "markdown",
   "metadata": {},
   "source": [
    "Now we fit the HMMs to their corresponding training sets using expectation–maximization (EM) algorithm."
   ]
  },
  {
   "cell_type": "markdown",
   "metadata": {},
   "source": [
    "The function `HMM_TxtGenerator.learn_params(num_iter)` repeats EM steps for some iterations, and returns the history of log-likelihood during the steps.\n",
    "At the following, we repeat EM updates for `n_iter` iterations and plot the history of log-likelihood. When log-probability of evidence stops increasing, it means that we can quit EM updates. Please note that log-likelihood might increase dramatically in first iterations. Therefore, in the plot the amount of increase in final iterations would look small. "
   ]
  },
  {
   "cell_type": "markdown",
   "metadata": {},
   "source": [
    "You can increase/decrease the number of iterations by setting `n_iter`."
   ]
  },
  {
   "cell_type": "code",
   "execution_count": 69,
   "metadata": {},
   "outputs": [
    {
     "name": "stdout",
     "output_type": "stream",
     "text": [
      "iteration 49 of 50\r"
     ]
    },
    {
     "data": {
      "image/png": "[encoded data removed]",
      "text/plain": [
       "<matplotlib.figure.Figure at 0x1f9be115828>"
      ]
     },
     "metadata": {},
     "output_type": "display_data"
    }
   ],
   "source": [
    "n_iter = 50\n",
    "history_loglik_1 = hmm_1.learn_params(n_iter)\n",
    "plt.figure()\n",
    "plt.plot(range(len(history_loglik_1)) , history_loglik_1)\n",
    "plt.xlabel(\"iteration\",fontsize=16)\n",
    "plt.ylabel(\"log-likelihood\",fontsize=16)\n",
    "plt.show()"
   ]
  },
  {
   "cell_type": "code",
   "execution_count": 70,
   "metadata": {},
   "outputs": [
    {
     "name": "stdout",
     "output_type": "stream",
     "text": [
      "iteration 49 of 50\r"
     ]
    },
    {
     "data": {
      "image/png": "[encoded data removed]",
      "text/plain": [
       "<matplotlib.figure.Figure at 0x1f9be0d4da0>"
      ]
     },
     "metadata": {},
     "output_type": "display_data"
    }
   ],
   "source": [
    "history_loglik_5 = hmm_5.learn_params(n_iter)\n",
    "plt.figure()\n",
    "plt.plot(range(len(history_loglik_5)) , history_loglik_5)\n",
    "plt.xlabel(\"iteration\",fontsize=16)\n",
    "plt.ylabel(\"log-likelihood\",fontsize=16)\n",
    "plt.show()"
   ]
  },
  {
   "cell_type": "markdown",
   "metadata": {},
   "source": [
    "Now we have learned the parameters $\\pi_1,\\mathbf{A}_1,\\mathbf{B}_1$ and $\\pi_5,\\mathbf{A}_5,\\mathbf{B}_5$. Assume that we have a sentence of length $T$ and we want to classify it as either 1-star or 5-star. For this task, we consider the following probabilistic model:"
   ]
  },
  {
   "cell_type": "code",
   "execution_count": 72,
   "metadata": {},
   "outputs": [
    {
     "ename": "FileNotFoundError",
     "evalue": "[Errno 2] No such file or directory: 'task03_classification.png'",
     "output_type": "error",
     "traceback": [
      "\u001b[1;31m---------------------------------------------------------------------------\u001b[0m",
      "\u001b[1;31mFileNotFoundError\u001b[0m                         Traceback (most recent call last)",
      "\u001b[1;32m<ipython-input-72-dc1acc48be15>\u001b[0m in \u001b[0;36m<module>\u001b[1;34m()\u001b[0m\n\u001b[1;32m----> 1\u001b[1;33m \u001b[0mImage\u001b[0m\u001b[1;33m(\u001b[0m\u001b[0mfilename\u001b[0m \u001b[1;33m=\u001b[0m\u001b[1;34m\"task03_classification.png\"\u001b[0m \u001b[1;33m,\u001b[0m \u001b[0mwidth\u001b[0m\u001b[1;33m=\u001b[0m\u001b[1;36m250\u001b[0m\u001b[1;33m)\u001b[0m\u001b[1;33m\u001b[0m\u001b[0m\n\u001b[0m",
      "\u001b[1;32m~\\Anaconda3\\lib\\site-packages\\IPython\\core\\display.py\u001b[0m in \u001b[0;36m__init__\u001b[1;34m(self, data, url, filename, format, embed, width, height, retina, unconfined, metadata)\u001b[0m\n\u001b[0;32m   1063\u001b[0m         \u001b[0mself\u001b[0m\u001b[1;33m.\u001b[0m\u001b[0munconfined\u001b[0m \u001b[1;33m=\u001b[0m \u001b[0munconfined\u001b[0m\u001b[1;33m\u001b[0m\u001b[0m\n\u001b[0;32m   1064\u001b[0m         \u001b[0mself\u001b[0m\u001b[1;33m.\u001b[0m\u001b[0mmetadata\u001b[0m \u001b[1;33m=\u001b[0m \u001b[0mmetadata\u001b[0m\u001b[1;33m\u001b[0m\u001b[0m\n\u001b[1;32m-> 1065\u001b[1;33m         \u001b[0msuper\u001b[0m\u001b[1;33m(\u001b[0m\u001b[0mImage\u001b[0m\u001b[1;33m,\u001b[0m \u001b[0mself\u001b[0m\u001b[1;33m)\u001b[0m\u001b[1;33m.\u001b[0m\u001b[0m__init__\u001b[0m\u001b[1;33m(\u001b[0m\u001b[0mdata\u001b[0m\u001b[1;33m=\u001b[0m\u001b[0mdata\u001b[0m\u001b[1;33m,\u001b[0m \u001b[0murl\u001b[0m\u001b[1;33m=\u001b[0m\u001b[0murl\u001b[0m\u001b[1;33m,\u001b[0m \u001b[0mfilename\u001b[0m\u001b[1;33m=\u001b[0m\u001b[0mfilename\u001b[0m\u001b[1;33m)\u001b[0m\u001b[1;33m\u001b[0m\u001b[0m\n\u001b[0m\u001b[0;32m   1066\u001b[0m \u001b[1;33m\u001b[0m\u001b[0m\n\u001b[0;32m   1067\u001b[0m         \u001b[1;32mif\u001b[0m \u001b[0mretina\u001b[0m\u001b[1;33m:\u001b[0m\u001b[1;33m\u001b[0m\u001b[0m\n",
      "\u001b[1;32m~\\Anaconda3\\lib\\site-packages\\IPython\\core\\display.py\u001b[0m in \u001b[0;36m__init__\u001b[1;34m(self, data, url, filename)\u001b[0m\n\u001b[0;32m    603\u001b[0m         \u001b[0mself\u001b[0m\u001b[1;33m.\u001b[0m\u001b[0mfilename\u001b[0m \u001b[1;33m=\u001b[0m \u001b[0mfilename\u001b[0m\u001b[1;33m\u001b[0m\u001b[0m\n\u001b[0;32m    604\u001b[0m \u001b[1;33m\u001b[0m\u001b[0m\n\u001b[1;32m--> 605\u001b[1;33m         \u001b[0mself\u001b[0m\u001b[1;33m.\u001b[0m\u001b[0mreload\u001b[0m\u001b[1;33m(\u001b[0m\u001b[1;33m)\u001b[0m\u001b[1;33m\u001b[0m\u001b[0m\n\u001b[0m\u001b[0;32m    606\u001b[0m         \u001b[0mself\u001b[0m\u001b[1;33m.\u001b[0m\u001b[0m_check_data\u001b[0m\u001b[1;33m(\u001b[0m\u001b[1;33m)\u001b[0m\u001b[1;33m\u001b[0m\u001b[0m\n\u001b[0;32m    607\u001b[0m \u001b[1;33m\u001b[0m\u001b[0m\n",
      "\u001b[1;32m~\\Anaconda3\\lib\\site-packages\\IPython\\core\\display.py\u001b[0m in \u001b[0;36mreload\u001b[1;34m(self)\u001b[0m\n\u001b[0;32m   1085\u001b[0m         \u001b[1;34m\"\"\"Reload the raw data from file or URL.\"\"\"\u001b[0m\u001b[1;33m\u001b[0m\u001b[0m\n\u001b[0;32m   1086\u001b[0m         \u001b[1;32mif\u001b[0m \u001b[0mself\u001b[0m\u001b[1;33m.\u001b[0m\u001b[0membed\u001b[0m\u001b[1;33m:\u001b[0m\u001b[1;33m\u001b[0m\u001b[0m\n\u001b[1;32m-> 1087\u001b[1;33m             \u001b[0msuper\u001b[0m\u001b[1;33m(\u001b[0m\u001b[0mImage\u001b[0m\u001b[1;33m,\u001b[0m\u001b[0mself\u001b[0m\u001b[1;33m)\u001b[0m\u001b[1;33m.\u001b[0m\u001b[0mreload\u001b[0m\u001b[1;33m(\u001b[0m\u001b[1;33m)\u001b[0m\u001b[1;33m\u001b[0m\u001b[0m\n\u001b[0m\u001b[0;32m   1088\u001b[0m             \u001b[1;32mif\u001b[0m \u001b[0mself\u001b[0m\u001b[1;33m.\u001b[0m\u001b[0mretina\u001b[0m\u001b[1;33m:\u001b[0m\u001b[1;33m\u001b[0m\u001b[0m\n\u001b[0;32m   1089\u001b[0m                 \u001b[0mself\u001b[0m\u001b[1;33m.\u001b[0m\u001b[0m_retina_shape\u001b[0m\u001b[1;33m(\u001b[0m\u001b[1;33m)\u001b[0m\u001b[1;33m\u001b[0m\u001b[0m\n",
      "\u001b[1;32m~\\Anaconda3\\lib\\site-packages\\IPython\\core\\display.py\u001b[0m in \u001b[0;36mreload\u001b[1;34m(self)\u001b[0m\n\u001b[0;32m    621\u001b[0m         \u001b[1;34m\"\"\"Reload the raw data from file or URL.\"\"\"\u001b[0m\u001b[1;33m\u001b[0m\u001b[0m\n\u001b[0;32m    622\u001b[0m         \u001b[1;32mif\u001b[0m \u001b[0mself\u001b[0m\u001b[1;33m.\u001b[0m\u001b[0mfilename\u001b[0m \u001b[1;32mis\u001b[0m \u001b[1;32mnot\u001b[0m \u001b[1;32mNone\u001b[0m\u001b[1;33m:\u001b[0m\u001b[1;33m\u001b[0m\u001b[0m\n\u001b[1;32m--> 623\u001b[1;33m             \u001b[1;32mwith\u001b[0m \u001b[0mopen\u001b[0m\u001b[1;33m(\u001b[0m\u001b[0mself\u001b[0m\u001b[1;33m.\u001b[0m\u001b[0mfilename\u001b[0m\u001b[1;33m,\u001b[0m \u001b[0mself\u001b[0m\u001b[1;33m.\u001b[0m\u001b[0m_read_flags\u001b[0m\u001b[1;33m)\u001b[0m \u001b[1;32mas\u001b[0m \u001b[0mf\u001b[0m\u001b[1;33m:\u001b[0m\u001b[1;33m\u001b[0m\u001b[0m\n\u001b[0m\u001b[0;32m    624\u001b[0m                 \u001b[0mself\u001b[0m\u001b[1;33m.\u001b[0m\u001b[0mdata\u001b[0m \u001b[1;33m=\u001b[0m \u001b[0mf\u001b[0m\u001b[1;33m.\u001b[0m\u001b[0mread\u001b[0m\u001b[1;33m(\u001b[0m\u001b[1;33m)\u001b[0m\u001b[1;33m\u001b[0m\u001b[0m\n\u001b[0;32m    625\u001b[0m         \u001b[1;32melif\u001b[0m \u001b[0mself\u001b[0m\u001b[1;33m.\u001b[0m\u001b[0murl\u001b[0m \u001b[1;32mis\u001b[0m \u001b[1;32mnot\u001b[0m \u001b[1;32mNone\u001b[0m\u001b[1;33m:\u001b[0m\u001b[1;33m\u001b[0m\u001b[0m\n",
      "\u001b[1;31mFileNotFoundError\u001b[0m: [Errno 2] No such file or directory: 'task03_classification.png'"
     ]
    }
   ],
   "source": [
    "Image(filename =\"task03_classification.png\" , width=250)"
   ]
  },
  {
   "cell_type": "markdown",
   "metadata": {},
   "source": [
    "In the above model, $Y\\in \\lbrace 1,5 \\rbrace$ indicates the class of the review, either 1-star or 5-star. "
   ]
  },
  {
   "cell_type": "markdown",
   "metadata": {},
   "source": [
    "The generative process of the above model is as follows:\n",
    "* Generate the class of the sentence:\n",
    "\\begin{equation}\n",
    "Pr(Y=1) = p \\;\\;\\;\\;, \\;\\;\\;\\; Pr(Y=5) = 1-p \\;\\;.\n",
    "\\end{equation}\n",
    "* If 1-star (resp. 5-star) category is chosen, generate the sentence from marginal distribution of HMM 1 (resp. 5):\n",
    "\\begin{equation}\n",
    "Pr(X_{1:T} | Y) = \n",
    "\\begin{cases}\n",
    "Pr(X_{1:T}|\\pi_1,\\mathbf{A}_1,\\mathbf{B}_1) \\;\\;\\;\\;\\;\\; Y=1 \\\\\n",
    "Pr(X_{1:T}|\\pi_5,\\mathbf{A}_5,\\mathbf{B}_5) \\;\\;\\;\\;\\;\\; Y=5\n",
    "\\end{cases}\n",
    "\\end{equation}"
   ]
  },
  {
   "cell_type": "markdown",
   "metadata": {},
   "source": [
    "To classify a sentence $X_{1:T}$, we can simply compare $Pr(Y=1|X_{1:T})$ with $Pr(Y=5|X_{1:T})$. Using Bayes' theorem, we can make decision by computing the terms\n",
    "$logPr(Y=1)+logPr(X_{1:T}|\\pi_1,\\mathbf{A}_1,\\mathbf{B}_1)$ and $logPr(Y=5)+ logPr(X_{1:T}|\\pi_5,\\mathbf{A}_5,\\mathbf{B}_5)$. More precisely:\n",
    "* The terms $logPr(X_{1:T}|\\pi_1,\\mathbf{A}_1,\\mathbf{B}_1)$ and $logPr(X_{1:T}|\\pi_5,\\mathbf{A}_5,\\mathbf{B}_5)$ are provided by the functions `hmm_1.loglik_sentence` and `hmm_5.loglik_sentence`. \n",
    "* We can approximate $Pr(Y=1)$ and $Pr(Y=5)$ simply by computing the frequency of each class in the training set."
   ]
  },
  {
   "cell_type": "markdown",
   "metadata": {},
   "source": [
    "We assume that if a sentence contains a word which is **not** in the vocabulary of a model, likelihood of the sentence is zero and log-likelihood is $-\\infty$. At the following, we drop the samples in test set which have $-\\infty$ log-likelihood in both models. We store all other samples in `reviews_test_filtered` and their categories in `y_test_filtered`. "
   ]
  },
  {
   "cell_type": "code",
   "execution_count": 73,
   "metadata": {
    "collapsed": true
   },
   "outputs": [],
   "source": [
    "temp_reviews = []\n",
    "temp_y = []\n",
    "for counter in range(len(reviews_test)):\n",
    "    current_review = reviews_test[counter]\n",
    "    current_y   = y_test[counter]\n",
    "    if(hmm_1.is_in_vocab(current_review) | hmm_5.is_in_vocab(current_review)):\n",
    "        temp_reviews.append(current_review)\n",
    "        temp_y.append(current_y)\n",
    "reviews_test_filtered = temp_reviews\n",
    "y_test_filtered = temp_y"
   ]
  },
  {
   "cell_type": "markdown",
   "metadata": {},
   "source": [
    "Implement the function `classify_review` which is expalined at the following:"
   ]
  },
  {
   "cell_type": "code",
   "execution_count": 74,
   "metadata": {
    "collapsed": true
   },
   "outputs": [],
   "source": [
    "def classify_review(hmm_1,hmm_5,p,sentence_in):\n",
    "    \"\"\"Given the trained models `hmm_1` and `hmm_2` and frequency of\n",
    "       1-star reviews, classifies `sentence_in` \n",
    "    \n",
    "    Parameters\n",
    "    ----------\n",
    "    hmm_1 : HMM_TxtGenerator\n",
    "        The trained model on 1-star reviews.\n",
    "    hmm_5 : HMM_TxtGenerator\n",
    "        The trained model on 5-star reviews.\n",
    "    p: a scalar in [0,1]\n",
    "        frequency of 1-star reviews, (#1star)/(#1star + #5star)\n",
    "    \n",
    "    Returns\n",
    "    -------\n",
    "    c : int in {1,5}\n",
    "        c=1 means sentence_in is classified as 1. \n",
    "        similarly c=5 means sentence_in is classified as 5.\n",
    "        \n",
    "    \"\"\"\n",
    "    \n",
    "    model_one_star = hmm_1.loglik_sentence(sentence_in)\n",
    "    model_five_stars = hmm_5.loglik_sentence(sentence_in)\n",
    "    \n",
    "    p1 = np.log(p + 1e-15) + model_one_star\n",
    "    p5 = np.log(1 - p + 1e-15) + model_five_stars\n",
    "    \n",
    "    if p1 > p5:\n",
    "        c = 1\n",
    "    else:\n",
    "        c = 5\n",
    "        \n",
    "    \n",
    "    return c\n",
    "    "
   ]
  },
  {
   "cell_type": "markdown",
   "metadata": {},
   "source": [
    "We evaluate our classifier on the test set."
   ]
  },
  {
   "cell_type": "code",
   "execution_count": 75,
   "metadata": {},
   "outputs": [
    {
     "name": "stdout",
     "output_type": "stream",
     "text": [
      "classification accuracy for 206 test instances: 0.7427184466019418\n"
     ]
    }
   ],
   "source": [
    "p = len(reviews_1star_train)/(len(reviews_1star_train)+len(reviews_5star_train))\n",
    "y_pred = []\n",
    "for sent in reviews_test_filtered:\n",
    "    y_pred.append(classify_review(hmm_1,hmm_5,p,sent))\n",
    "accuracy = np.sum(np.array(y_pred)==np.array(y_test_filtered))/len(y_test_filtered)\n",
    "print(\"classification accuracy for \" + str(len(y_test_filtered)) +\\\n",
    "      \" test instances: \" + str(accuracy))"
   ]
  },
  {
   "cell_type": "markdown",
   "metadata": {},
   "source": [
    "We can investigate how the generated sentences would look like:"
   ]
  },
  {
   "cell_type": "code",
   "execution_count": 76,
   "metadata": {
    "scrolled": true
   },
   "outputs": [
    {
     "name": "stdout",
     "output_type": "stream",
     "text": [
      "generated 1star review: \n",
      "['Beef', 'Was', 'left', 'parts', 'de', 'oh', 'on', 'husband', 'Hispanic', 'deal', 'long', 'cool', 'uneasiness', 'now', 'pick']\n",
      "\n",
      "\n",
      "generated 5star review: \n",
      "['afford', 'tossed', 'devoured', 'adjoining', 'savored', 'eaten', 'Well', 'catfish', 'Moly', 'lime', 'distribution', 'complement', 'advertising', 'Downside', 'providing']\n"
     ]
    }
   ],
   "source": [
    "sample_1star = hmm_1.generate_sentence(15)\n",
    "sample_5star = hmm_5.generate_sentence(15)\n",
    "print(\"generated 1star review: \")\n",
    "print(sample_1star)\n",
    "print(\"\\n\")\n",
    "print(\"generated 5star review: \")\n",
    "print(sample_5star)"
   ]
  }
 ],
 "metadata": {
  "kernelspec": {
   "display_name": "Python 3",
   "language": "python",
   "name": "python3"
  },
  "language_info": {
   "codemirror_mode": {
    "name": "ipython",
    "version": 3
   },
   "file_extension": ".py",
   "mimetype": "text/x-python",
   "name": "python",
   "nbconvert_exporter": "python",
   "pygments_lexer": "ipython3",
   "version": "3.6.1"
  }
 },
 "nbformat": 4,
 "nbformat_minor": 2
}
